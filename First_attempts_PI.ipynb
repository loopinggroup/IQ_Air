{
 "cells": [
  {
   "cell_type": "code",
   "execution_count": 117,
   "metadata": {},
   "outputs": [],
   "source": [
    "#API DOCUMENTATION - https://api-docs.iqair.com/?version=latest#get-started\n",
    "\n",
    "import requests\n",
    "import pandas as pd\n",
    "\n",
    "import urllib.request\n",
    "import json"
   ]
  },
  {
   "cell_type": "code",
   "execution_count": 3,
   "metadata": {
    "collapsed": true
   },
   "outputs": [
    {
     "name": "stdout",
     "output_type": "stream",
     "text": [
      "b'{\"status\":\"success\",\"data\":[{\"state\":\"Baden-Wuerttemberg\"},{\"state\":\"Bavaria\"},{\"state\":\"Berlin\"},{\"state\":\"Brandenburg\"},{\"state\":\"Bremen\"},{\"state\":\"Hamburg\"},{\"state\":\"Hessen\"},{\"state\":\"Lower Saxony\"},{\"state\":\"Mecklenburg-Vorpommern\"},{\"state\":\"Nordrhein-Westfalen\"},{\"state\":\"Rheinland-Pfalz\"},{\"state\":\"Saarland\"},{\"state\":\"Saxony\"},{\"state\":\"Saxony-Anhalt\"},{\"state\":\"Schleswig-Holstein\"},{\"state\":\"Thuringia\"}]}'\n"
     ]
    }
   ],
   "source": [
    "url = \"http://api.airvisual.com/v2/states?country=Germany&key=2dc3fa8e-710c-4be1-8205-3e3946fd92cf\"\n",
    "\n",
    "payload = {}\n",
    "headers= {}\n",
    "\n",
    "response = requests.request(\"GET\", url, headers=headers, data = payload)\n",
    "\n",
    "print(response.text.encode('utf8'))"
   ]
  },
  {
   "cell_type": "code",
   "execution_count": 24,
   "metadata": {
    "collapsed": true
   },
   "outputs": [
    {
     "name": "stdout",
     "output_type": "stream",
     "text": [
      "b'{\"status\":\"success\",\"data\":[{\"state\":\"Baden-Wuerttemberg\"},{\"state\":\"Bavaria\"},{\"state\":\"Berlin\"},{\"state\":\"Brandenburg\"},{\"state\":\"Bremen\"},{\"state\":\"Hamburg\"},{\"state\":\"Hessen\"},{\"state\":\"Lower Saxony\"},{\"state\":\"Mecklenburg-Vorpommern\"},{\"state\":\"Nordrhein-Westfalen\"},{\"state\":\"Rheinland-Pfalz\"},{\"state\":\"Saarland\"},{\"state\":\"Saxony\"},{\"state\":\"Saxony-Anhalt\"},{\"state\":\"Schleswig-Holstein\"},{\"state\":\"Thuringia\"}]}'\n"
     ]
    }
   ],
   "source": [
    "with urllib.request.urlopen(\"http://api.airvisual.com/v2/states?country=Germany&key=2dc3fa8e-710c-4be1-8205-3e3946fd92cf\") as url:\n",
    "    s = url.read()\n",
    "    # I'm guessing this would output the html source code ?\n",
    "    print(s)"
   ]
  },
  {
   "cell_type": "code",
   "execution_count": 115,
   "metadata": {},
   "outputs": [
    {
     "name": "stdout",
     "output_type": "stream",
     "text": [
      "[{'state': 'Baden-Wuerttemberg'}, {'state': 'Bavaria'}, {'state': 'Berlin'}, {'state': 'Brandenburg'}, {'state': 'Bremen'}, {'state': 'Hamburg'}, {'state': 'Hessen'}, {'state': 'Lower Saxony'}, {'state': 'Mecklenburg-Vorpommern'}, {'state': 'Nordrhein-Westfalen'}, {'state': 'Rheinland-Pfalz'}, {'state': 'Saarland'}, {'state': 'Saxony'}, {'state': 'Saxony-Anhalt'}, {'state': 'Schleswig-Holstein'}, {'state': 'Thuringia'}]\n"
     ]
    }
   ],
   "source": [
    "response = requests.get(\"http://api.airvisual.com/v2/states?country=Germany&key=2dc3fa8e-710c-4be1-8205-3e3946fd92cf\")  # api call\n",
    "\n",
    "jsonString = json.loads(response.text)['data']\n",
    "print(jsonString)\n",
    "#for j in jsonString:\n",
    "#    print(j)\n",
    "   #for ob in j:\n",
    "   #    print(ob)"
   ]
  },
  {
   "cell_type": "code",
   "execution_count": 119,
   "metadata": {},
   "outputs": [
    {
     "data": {
      "text/plain": [
       "list"
      ]
     },
     "execution_count": 119,
     "metadata": {},
     "output_type": "execute_result"
    }
   ],
   "source": [
    "type(jsonString)"
   ]
  },
  {
   "cell_type": "code",
   "execution_count": null,
   "metadata": {},
   "outputs": [],
   "source": []
  },
  {
   "cell_type": "code",
   "execution_count": 118,
   "metadata": {},
   "outputs": [
    {
     "ename": "AttributeError",
     "evalue": "'list' object has no attribute 'values'",
     "output_type": "error",
     "traceback": [
      "\u001b[0;31m---------------------------------------------------------------------------\u001b[0m",
      "\u001b[0;31mAttributeError\u001b[0m                            Traceback (most recent call last)",
      "\u001b[0;32m<ipython-input-118-13233bc0f003>\u001b[0m in \u001b[0;36m<module>\u001b[0;34m\u001b[0m\n\u001b[0;32m----> 1\u001b[0;31m \u001b[0mdf\u001b[0m \u001b[0;34m=\u001b[0m \u001b[0mpd\u001b[0m\u001b[0;34m.\u001b[0m\u001b[0mDataFrame\u001b[0m\u001b[0;34m.\u001b[0m\u001b[0mfrom_dict\u001b[0m\u001b[0;34m(\u001b[0m\u001b[0mjsonString\u001b[0m\u001b[0;34m,\u001b[0m \u001b[0morient\u001b[0m\u001b[0;34m=\u001b[0m\u001b[0;34m\"index\"\u001b[0m\u001b[0;34m)\u001b[0m\u001b[0;34m\u001b[0m\u001b[0;34m\u001b[0m\u001b[0m\n\u001b[0m",
      "\u001b[0;32m~/.pyenv/versions/3.7.7/lib/python3.7/site-packages/pandas/core/frame.py\u001b[0m in \u001b[0;36mfrom_dict\u001b[0;34m(cls, data, orient, dtype, columns)\u001b[0m\n\u001b[1;32m   1297\u001b[0m             \u001b[0;32mif\u001b[0m \u001b[0mlen\u001b[0m\u001b[0;34m(\u001b[0m\u001b[0mdata\u001b[0m\u001b[0;34m)\u001b[0m \u001b[0;34m>\u001b[0m \u001b[0;36m0\u001b[0m\u001b[0;34m:\u001b[0m\u001b[0;34m\u001b[0m\u001b[0;34m\u001b[0m\u001b[0m\n\u001b[1;32m   1298\u001b[0m                 \u001b[0;31m# TODO speed up Series case\u001b[0m\u001b[0;34m\u001b[0m\u001b[0;34m\u001b[0m\u001b[0;34m\u001b[0m\u001b[0m\n\u001b[0;32m-> 1299\u001b[0;31m                 \u001b[0;32mif\u001b[0m \u001b[0misinstance\u001b[0m\u001b[0;34m(\u001b[0m\u001b[0mlist\u001b[0m\u001b[0;34m(\u001b[0m\u001b[0mdata\u001b[0m\u001b[0;34m.\u001b[0m\u001b[0mvalues\u001b[0m\u001b[0;34m(\u001b[0m\u001b[0;34m)\u001b[0m\u001b[0;34m)\u001b[0m\u001b[0;34m[\u001b[0m\u001b[0;36m0\u001b[0m\u001b[0;34m]\u001b[0m\u001b[0;34m,\u001b[0m \u001b[0;34m(\u001b[0m\u001b[0mSeries\u001b[0m\u001b[0;34m,\u001b[0m \u001b[0mdict\u001b[0m\u001b[0;34m)\u001b[0m\u001b[0;34m)\u001b[0m\u001b[0;34m:\u001b[0m\u001b[0;34m\u001b[0m\u001b[0;34m\u001b[0m\u001b[0m\n\u001b[0m\u001b[1;32m   1300\u001b[0m                     \u001b[0mdata\u001b[0m \u001b[0;34m=\u001b[0m \u001b[0m_from_nested_dict\u001b[0m\u001b[0;34m(\u001b[0m\u001b[0mdata\u001b[0m\u001b[0;34m)\u001b[0m\u001b[0;34m\u001b[0m\u001b[0;34m\u001b[0m\u001b[0m\n\u001b[1;32m   1301\u001b[0m                 \u001b[0;32melse\u001b[0m\u001b[0;34m:\u001b[0m\u001b[0;34m\u001b[0m\u001b[0;34m\u001b[0m\u001b[0m\n",
      "\u001b[0;31mAttributeError\u001b[0m: 'list' object has no attribute 'values'"
     ]
    }
   ],
   "source": [
    "df = pd.DataFrame.from_dict(jsonString, orient=\"index\")"
   ]
  },
  {
   "cell_type": "code",
   "execution_count": null,
   "metadata": {},
   "outputs": [],
   "source": []
  }
 ],
 "metadata": {
  "kernelspec": {
   "display_name": "Python 3",
   "language": "python",
   "name": "python3"
  },
  "language_info": {
   "codemirror_mode": {
    "name": "ipython",
    "version": 3
   },
   "file_extension": ".py",
   "mimetype": "text/x-python",
   "name": "python",
   "nbconvert_exporter": "python",
   "pygments_lexer": "ipython3",
   "version": "3.7.7"
  }
 },
 "nbformat": 4,
 "nbformat_minor": 4
}
