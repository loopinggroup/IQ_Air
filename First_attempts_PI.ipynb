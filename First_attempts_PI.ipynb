{
 "cells": [
  {
   "cell_type": "code",
   "execution_count": 1,
   "metadata": {},
   "outputs": [
    {
     "name": "stderr",
     "output_type": "stream",
     "text": [
      "/Users/pilarcuellar/.pyenv/versions/3.7.7/lib/python3.7/site-packages/pandas/compat/__init__.py:120: UserWarning: Could not import the lzma module. Your installed Python is incomplete. Attempting to use lzma compression will result in a RuntimeError.\n",
      "  warnings.warn(msg)\n"
     ]
    }
   ],
   "source": [
    "# IQ Air Workshop \n",
    "\n",
    "#API DOCUMENTATION - https://api-docs.iqair.com/?version=latest#get-started\n",
    "\n",
    "import requests\n",
    "import pandas as pd\n",
    "import time\n",
    "import json"
   ]
  },
  {
   "cell_type": "code",
   "execution_count": 9,
   "metadata": {
    "collapsed": true
   },
   "outputs": [
    {
     "data": {
      "text/plain": [
       "[{'state': 'Baden-Wuerttemberg'},\n",
       " {'state': 'Bavaria'},\n",
       " {'state': 'Berlin'},\n",
       " {'state': 'Brandenburg'},\n",
       " {'state': 'Bremen'},\n",
       " {'state': 'Hamburg'},\n",
       " {'state': 'Hessen'},\n",
       " {'state': 'Lower Saxony'},\n",
       " {'state': 'Mecklenburg-Vorpommern'},\n",
       " {'state': 'Nordrhein-Westfalen'},\n",
       " {'state': 'Rheinland-Pfalz'},\n",
       " {'state': 'Saarland'},\n",
       " {'state': 'Saxony'},\n",
       " {'state': 'Saxony-Anhalt'},\n",
       " {'state': 'Schleswig-Holstein'},\n",
       " {'state': 'Thuringia'}]"
      ]
     },
     "execution_count": 9,
     "metadata": {},
     "output_type": "execute_result"
    }
   ],
   "source": [
    "# Load all German States \n",
    "url = \"http://api.airvisual.com/v2/states?country=Germany&key=2dc3fa8e-710c-4be1-8205-3e3946fd92cf\"\n",
    "\n",
    "payload = {} # data we want to load\n",
    "files = {}\n",
    "headers= {}\n",
    "\n",
    "response = requests.request(\"GET\", url, headers=headers, data = payload, files = files)\n",
    "\n",
    "# german states raw data shown as text file\n",
    "# print(response.text.encode('utf8'))\n",
    "\n",
    "# Our first step would be to read the data. For that, we need to convert our response into a list of dictionaries\n",
    "states=response.text # first, we define the states string file we want to work with\n",
    "\n",
    "states = states[states.find(\"[\"):states.find(\"]\")+1] # second, we look for the list with the data dicts. we're interest on\n",
    "states_json = json.loads(states) # third, we convert our states string file into a json file to read the data better\n",
    "states_json"
   ]
  },
  {
   "cell_type": "code",
   "execution_count": 13,
   "metadata": {
    "collapsed": true
   },
   "outputs": [
    {
     "data": {
      "text/plain": [
       "{'state': 'Berlin'}"
      ]
     },
     "execution_count": 13,
     "metadata": {},
     "output_type": "execute_result"
    }
   ],
   "source": [
    "states_json[2] # single example about how to interact with our current states_json file"
   ]
  },
  {
   "cell_type": "code",
   "execution_count": 10,
   "metadata": {},
   "outputs": [
    {
     "name": "stdout",
     "output_type": "stream",
     "text": [
      "Baden-Wuerttemberg\n",
      "Bavaria\n",
      "Berlin\n",
      "Brandenburg\n",
      "Bremen\n",
      "Hamburg\n",
      "Hessen\n",
      "Lower Saxony\n",
      "Mecklenburg-Vorpommern\n",
      "Nordrhein-Westfalen\n",
      "Rheinland-Pfalz\n",
      "Saarland\n",
      "Saxony\n",
      "Saxony-Anhalt\n",
      "Schleswig-Holstein\n",
      "Thuringia\n"
     ]
    }
   ],
   "source": [
    "#Loop for printing each of the states that is on our states_json file (in this way we only get the states names)\n",
    "for i in range(len(states_json)):\n",
    "    print(states_json[i]['state']) # there're 16 German States"
   ]
  },
  {
   "cell_type": "code",
   "execution_count": 11,
   "metadata": {},
   "outputs": [],
   "source": [
    "# Now that we know the states we want, we need to convert our json into a dataframe \n",
    "# but first we need to get the rest of the data we want to analyse (air quality of each German state)"
   ]
  },
  {
   "cell_type": "code",
   "execution_count": 64,
   "metadata": {},
   "outputs": [],
   "source": [
    "#Initialise data frame\n",
    "data = []\n",
    "payload={}\n",
    "files={}\n",
    "headers = {}"
   ]
  },
  {
   "cell_type": "code",
   "execution_count": 55,
   "metadata": {},
   "outputs": [
    {
     "name": "stdout",
     "output_type": "stream",
     "text": [
      "{'status': 'success', 'data': {'city': 'Aalen', 'state': 'Baden-Wuerttemberg', 'country': 'Germany', 'location': {'type': 'Point', 'coordinates': [10.131, 48.812]}, 'current': {'weather': {'ts': '2021-04-14T10:00:00.000Z', 'tp': 4, 'pr': 1025, 'hu': 53, 'ws': 3.04, 'wd': 33, 'ic': '04d'}, 'pollution': {'ts': '2021-04-14T12:00:00.000Z', 'aqius': 29, 'mainus': 'p2', 'aqicn': 11, 'maincn': 'p1'}}}}\n",
      "{'status': 'success', 'data': {'city': 'Baden-baden', 'state': 'Baden-Wuerttemberg', 'country': 'Germany', 'location': {'type': 'Point', 'coordinates': [8.243008, 48.758339]}, 'current': {'weather': {'ts': '2021-04-14T10:00:00.000Z', 'tp': 7, 'pr': 1028, 'hu': 49, 'ws': 6.69, 'wd': 10, 'ic': '02d'}, 'pollution': {'ts': '2021-04-14T12:00:00.000Z', 'aqius': 21, 'mainus': 'p2', 'aqicn': 8, 'maincn': 'p1'}}}}\n",
      "{'status': 'success', 'data': {'city': 'Bernhausen', 'state': 'Baden-Wuerttemberg', 'country': 'Germany', 'location': {'type': 'Point', 'coordinates': [9.2249, 48.6763]}, 'current': {'weather': {'ts': '2021-04-14T11:00:00.000Z', 'tp': 5, 'pr': 1027, 'hu': 45, 'ws': 3.09, 'wd': 10, 'ic': '10d'}, 'pollution': {'ts': '2021-04-14T12:00:00.000Z', 'aqius': 37, 'mainus': 'p2', 'aqicn': 13, 'maincn': 'p2'}}}}\n",
      "{'status': 'success', 'data': {'city': 'Biberach', 'state': 'Baden-Wuerttemberg', 'country': 'Germany', 'location': {'type': 'Point', 'coordinates': [9.7902, 48.0951]}, 'current': {'weather': {'ts': '2021-04-14T10:00:00.000Z', 'tp': 6, 'pr': 1025, 'hu': 42, 'ws': 3.09, 'wd': 80, 'ic': '03d'}, 'pollution': {'ts': '2021-04-14T12:00:00.000Z', 'aqius': 29, 'mainus': 'p2', 'aqicn': 10, 'maincn': 'p2'}}}}\n",
      "{'status': 'success', 'data': {'city': 'Eggenstein', 'state': 'Baden-Wuerttemberg', 'country': 'Germany', 'location': {'type': 'Point', 'coordinates': [8.39879, 49.09006]}, 'current': {'weather': {'ts': '2021-04-14T11:00:00.000Z', 'tp': 8, 'pr': 1027, 'hu': 53, 'ws': 3.38, 'wd': 15, 'ic': '03d'}, 'pollution': {'ts': '2021-04-14T12:00:00.000Z', 'aqius': 33, 'mainus': 'o3', 'aqicn': 25, 'maincn': 'o3'}}}}\n",
      "{'status': 'success', 'data': {'city': 'Eppelheim', 'state': 'Baden-Wuerttemberg', 'country': 'Germany', 'location': {'type': 'Point', 'coordinates': [8.63644, 49.4019]}, 'current': {'weather': {'ts': '2021-04-14T11:00:00.000Z', 'tp': 7, 'pr': 1029, 'hu': 53, 'ws': 1.03, 'wd': 0, 'ic': '03d'}, 'pollution': {'ts': '2021-04-14T12:00:00.000Z', 'aqius': 22, 'mainus': 'p2', 'aqicn': 8, 'maincn': 'p2'}}}}\n",
      "{'status': 'success', 'data': {'city': 'Ettlingen', 'state': 'Baden-Wuerttemberg', 'country': 'Germany', 'location': {'type': 'Point', 'coordinates': [8.40847, 48.967385]}, 'current': {'weather': {'ts': '2021-04-14T10:00:00.000Z', 'tp': 8, 'pr': 1025, 'hu': 51, 'ws': 3.15, 'wd': 22, 'ic': '03d'}, 'pollution': {'ts': '2021-04-14T12:00:00.000Z', 'aqius': 21, 'mainus': 'p2', 'aqicn': 7, 'maincn': 'p2'}}}}\n",
      "{'status': 'success', 'data': {'city': 'Freiburg', 'state': 'Baden-Wuerttemberg', 'country': 'Germany', 'location': {'type': 'Point', 'coordinates': [7.809, 47.983]}, 'current': {'weather': {'ts': '2021-04-14T10:00:00.000Z', 'tp': 7, 'pr': 1026, 'hu': 41, 'ws': 0.89, 'wd': 357, 'ic': '02d'}, 'pollution': {'ts': '2021-04-14T12:00:00.000Z', 'aqius': 25, 'mainus': 'p2', 'aqicn': 11, 'maincn': 'n2'}}}}\n",
      "{'status': 'success', 'data': {'city': 'Friedrichshafen', 'state': 'Baden-Wuerttemberg', 'country': 'Germany', 'location': {'type': 'Point', 'coordinates': [9.48, 47.6618]}, 'current': {'weather': {'ts': '2021-04-14T10:00:00.000Z', 'tp': 6, 'pr': 1025, 'hu': 42, 'ws': 5.14, 'wd': 50, 'ic': '04d'}, 'pollution': {'ts': '2021-04-14T12:00:00.000Z', 'aqius': 50, 'mainus': 'p2', 'aqicn': 17, 'maincn': 'p2'}}}}\n",
      "{'status': 'success', 'data': {'city': 'Gartringen', 'state': 'Baden-Wuerttemberg', 'country': 'Germany', 'location': {'type': 'Point', 'coordinates': [8.906, 48.646]}, 'current': {'weather': {'ts': '2021-04-14T11:00:00.000Z', 'tp': 6, 'pr': 1027, 'hu': 52, 'ws': 7.2, 'wd': 30, 'ic': '10d'}, 'pollution': {'ts': '2021-04-14T12:00:00.000Z', 'aqius': 25, 'mainus': 'p2', 'aqicn': 9, 'maincn': 'p2'}}}}\n",
      "{'status': 'success', 'data': {'city': 'Heidelberg', 'state': 'Baden-Wuerttemberg', 'country': 'Germany', 'location': {'type': 'Point', 'coordinates': [8.69, 49.381]}, 'current': {'weather': {'ts': '2021-04-14T10:00:00.000Z', 'tp': 5, 'pr': 1029, 'hu': 57, 'ws': 2.57, 'wd': 90, 'ic': '04d'}, 'pollution': {'ts': '2021-04-14T12:00:00.000Z', 'aqius': 25, 'mainus': 'p2', 'aqicn': 11, 'maincn': 'p1'}}}}\n",
      "{'status': 'success', 'data': {'city': 'Heilbronn', 'state': 'Baden-Wuerttemberg', 'country': 'Germany', 'location': {'type': 'Point', 'coordinates': [9.22054, 49.13995]}, 'current': {'weather': {'ts': '2021-04-14T10:00:00.000Z', 'tp': 6, 'pr': 1027, 'hu': 57, 'ws': 2.89, 'wd': 24, 'ic': '04d'}, 'pollution': {'ts': '2021-04-14T12:00:00.000Z', 'aqius': 25, 'mainus': 'p2', 'aqicn': 12, 'maincn': 'p1'}}}}\n",
      "{'status': 'success', 'data': {'city': 'Karlsruhe', 'state': 'Baden-Wuerttemberg', 'country': 'Germany', 'location': {'type': 'Point', 'coordinates': [8.40444, 49.00937]}, 'current': {'weather': {'ts': '2021-04-14T10:00:00.000Z', 'tp': 8, 'pr': 1025, 'hu': 51, 'ws': 3.06, 'wd': 20, 'ic': '03d'}, 'pollution': {'ts': '2021-04-14T12:00:00.000Z', 'aqius': 33, 'mainus': 'o3', 'aqicn': 25, 'maincn': 'o3'}}}}\n",
      "{'status': 'success', 'data': {'city': 'Kehl', 'state': 'Baden-Wuerttemberg', 'country': 'Germany', 'location': {'type': 'Point', 'coordinates': [7.815230000000001, 48.57297]}, 'current': {'weather': {'ts': '2021-04-14T10:00:00.000Z', 'tp': 8, 'pr': 1028, 'hu': 43, 'ws': 4.63, 'wd': 50, 'ic': '03d'}, 'pollution': {'ts': '2021-04-14T12:00:00.000Z', 'aqius': 41, 'mainus': 'p2', 'aqicn': 17, 'maincn': 'p1'}}}}\n",
      "{'status': 'success', 'data': {'city': 'Konstanz', 'state': 'Baden-Wuerttemberg', 'country': 'Germany', 'location': {'type': 'Point', 'coordinates': [9.169289, 47.664361]}, 'current': {'weather': {'ts': '2021-04-14T10:00:00.000Z', 'tp': 6, 'pr': 1025, 'hu': 54, 'ws': 0.89, 'wd': 135, 'ic': '04d'}, 'pollution': {'ts': '2021-04-14T12:00:00.000Z', 'aqius': 45, 'mainus': 'p2', 'aqicn': 16, 'maincn': 'p2'}}}}\n",
      "{'status': 'success', 'data': {'city': 'Ludwigsburg', 'state': 'Baden-Wuerttemberg', 'country': 'Germany', 'location': {'type': 'Point', 'coordinates': [9.19161, 48.89731]}, 'current': {'weather': {'ts': '2021-04-14T10:00:00.000Z', 'tp': 5, 'pr': 1027, 'hu': 45, 'ws': 3.09, 'wd': 10, 'ic': '04d'}, 'pollution': {'ts': '2021-04-14T12:00:00.000Z', 'aqius': 33, 'mainus': 'p2', 'aqicn': 11, 'maincn': 'p2'}}}}\n",
      "{'status': 'success', 'data': {'city': 'Mannheim', 'state': 'Baden-Wuerttemberg', 'country': 'Germany', 'location': {'type': 'Point', 'coordinates': [8.47, 49.487]}, 'current': {'weather': {'ts': '2021-04-14T10:00:00.000Z', 'tp': 8, 'pr': 1029, 'hu': 57, 'ws': 2.57, 'wd': 90, 'ic': '04d'}, 'pollution': {'ts': '2021-04-14T12:00:00.000Z', 'aqius': 29, 'mainus': 'p2', 'aqicn': 11, 'maincn': 'p1'}}}}\n",
      "{'status': 'fail', 'data': {'message': 'city_not_found'}}\n",
      "{'status': 'success', 'data': {'city': 'Neuenburg', 'state': 'Baden-Wuerttemberg', 'country': 'Germany', 'location': {'type': 'Point', 'coordinates': [7.5592, 47.8141]}, 'current': {'weather': {'ts': '2021-04-14T10:00:00.000Z', 'tp': 8, 'pr': 1026, 'hu': 45, 'ws': 3.13, 'wd': 98, 'ic': '03d'}, 'pollution': {'ts': '2021-04-14T12:00:00.000Z', 'aqius': 37, 'mainus': 'p2', 'aqicn': 13, 'maincn': 'p2'}}}}\n",
      "{'status': 'success', 'data': {'city': 'Oberried', 'state': 'Baden-Wuerttemberg', 'country': 'Germany', 'location': {'type': 'Point', 'coordinates': [7.908035, 47.91325599999999]}, 'current': {'weather': {'ts': '2021-04-14T11:00:00.000Z', 'tp': 7, 'pr': 1024, 'hu': 52, 'ws': 0.89, 'wd': 217, 'ic': '03d'}, 'pollution': {'ts': '2021-04-13T23:00:00.000Z', 'aqius': 21, 'mainus': 'p2', 'aqicn': 7, 'maincn': 'p2'}}}}\n",
      "{'status': 'success', 'data': {'city': 'Pfalzgrafenweiler', 'state': 'Baden-Wuerttemberg', 'country': 'Germany', 'location': {'type': 'Point', 'coordinates': [8.56582, 48.5265]}, 'current': {'weather': {'ts': '2021-04-14T11:00:00.000Z', 'tp': 6, 'pr': 1027, 'hu': 59, 'ws': 2.24, 'wd': 25, 'ic': '10d'}, 'pollution': {'ts': '2021-04-14T12:00:00.000Z', 'aqius': 54, 'mainus': 'p2', 'aqicn': 20, 'maincn': 'p2'}}}}\n",
      "{'status': 'success', 'data': {'city': 'Pforzheim', 'state': 'Baden-Wuerttemberg', 'country': 'Germany', 'location': {'type': 'Point', 'coordinates': [8.728, 48.887]}, 'current': {'weather': {'ts': '2021-04-14T10:00:00.000Z', 'tp': 7, 'pr': 1004, 'hu': 52, 'ws': 0.45, 'wd': 254, 'ic': '10d'}, 'pollution': {'ts': '2021-04-14T12:00:00.000Z', 'aqius': 33, 'mainus': 'p2', 'aqicn': 18, 'maincn': 'p1'}}}}\n"
     ]
    },
    {
     "ename": "KeyboardInterrupt",
     "evalue": "",
     "output_type": "error",
     "traceback": [
      "\u001b[0;31m---------------------------------------------------------------------------\u001b[0m",
      "\u001b[0;31mKeyboardInterrupt\u001b[0m                         Traceback (most recent call last)",
      "\u001b[0;32m<ipython-input-55-18a9c047e5d1>\u001b[0m in \u001b[0;36m<module>\u001b[0;34m\u001b[0m\n\u001b[1;32m     36\u001b[0m        \u001b[0;31m# if len(objects) == 0:\u001b[0m\u001b[0;34m\u001b[0m\u001b[0;34m\u001b[0m\u001b[0;34m\u001b[0m\u001b[0m\n\u001b[1;32m     37\u001b[0m        \u001b[0;31m#         break\u001b[0m\u001b[0;34m\u001b[0m\u001b[0;34m\u001b[0m\u001b[0;34m\u001b[0m\u001b[0m\n\u001b[0;32m---> 38\u001b[0;31m         \u001b[0mtime\u001b[0m\u001b[0;34m.\u001b[0m\u001b[0msleep\u001b[0m\u001b[0;34m(\u001b[0m\u001b[0;36m10\u001b[0m\u001b[0;34m)\u001b[0m \u001b[0;31m#we can only get 5 requests per minute\u001b[0m\u001b[0;34m\u001b[0m\u001b[0;34m\u001b[0m\u001b[0m\n\u001b[0m\u001b[1;32m     39\u001b[0m \u001b[0;31m#\u001b[0m\u001b[0;34m\u001b[0m\u001b[0;34m\u001b[0m\u001b[0;34m\u001b[0m\u001b[0m\n\u001b[1;32m     40\u001b[0m \u001b[0;31m#       try:\u001b[0m\u001b[0;34m\u001b[0m\u001b[0;34m\u001b[0m\u001b[0;34m\u001b[0m\u001b[0m\n",
      "\u001b[0;31mKeyboardInterrupt\u001b[0m: "
     ]
    }
   ],
   "source": [
    "# Iterate over each state and each city & get data for each city\n",
    "# First I get all cities of each state\n",
    "for i in range(len(states_json)):\n",
    "    \n",
    "    state = states_json[i]\n",
    "    city_url = \"http://api.airvisual.com/v2/cities?state={}&country=Germany&key=df7d5666-30f3-4807-ae5f-d433698a4153\"\n",
    "    new_city_url = city_url.format(state['state']) # introduces loaded cities in each German state\n",
    "\n",
    "    response = requests.request(\"GET\", new_city_url, headers=headers, data=payload, files=files)\n",
    "   \n",
    "    #print(response.text.encode('utf8'))\n",
    "   \n",
    "    cities=response.text\n",
    "    cities = cities[cities.find(\"[\"):cities.find(\"]\")+1]\n",
    "    cities_json = json.loads(cities)\n",
    "    cities_json\n",
    "   \n",
    "    time.sleep(5) # time needed for getting each of the cities (only 5 requests per minute)\n",
    "\n",
    "    \n",
    "# Second, get air quality data per each city\n",
    "    for j in range(len(cities_json)): \n",
    "        city = cities_json[j]\n",
    "        data_url = \"http://api.airvisual.com/v2/city?city={}&state={}&country=Germany&key=df7d5666-30f3-4807-ae5f-d433698a4153\"\n",
    "        \n",
    "        #while True:\n",
    "            \n",
    "        new_data_url = data_url.format(city['city'],state['state'])\n",
    "        response_data = requests.request(\"GET\", new_data_url, headers=headers, data=payload, files=files) \n",
    "        data_json = json.loads(response_data.text)\n",
    "        print(data_json)\n",
    "        \n",
    "       # if 'data' not in data_json:\n",
    "       #         break\n",
    "       # objects = data_json['data']\n",
    "       # if len(objects) == 0:\n",
    "       #         break\n",
    "        time.sleep(10) #we can only get 5 requests per minute\n",
    "#       \n",
    "#       try:\n",
    "#           data.append([str(data_json['data']['city']), str(data_json['data']['state']),str(data_json['data']['country']),\n",
    "#                    str(data_json['data']['location']['coordinates']),\n",
    "#                    str(data_json['data']['current']['weather']['ts']),\n",
    "#                    str(data_json['data']['current']['weather']['tp']),\n",
    "#                    str(data_json['data']['current']['weather']['pr']),\n",
    "#                    str(data_json['data']['current']['weather']['hu']),\n",
    "#                    str(data_json['data']['current']['weather']['ws']),\n",
    "#                    str(data_json['data']['current']['weather']['wd']),\n",
    "#                    str(data_json['data']['current']['weather']['ic']),\n",
    "#                    str(data_json['data']['current']['pollution']['aqius']),\n",
    "#                    str(data_json['data']['current']['pollution']['mainus']),\n",
    "#                    str(data_json['data']['current']['pollution']['aqicn']),\n",
    "#                    str(data_json['data']['current']['pollution']['maincn']),\n",
    "#                   ])\n",
    "#       except Exception as err:\n",
    "#           print(f\"Couldn't print comment: https://www.reddit.com{object['permalink']}\")\n",
    "#           print(traceback.format_exc())"
   ]
  },
  {
   "cell_type": "code",
   "execution_count": 66,
   "metadata": {},
   "outputs": [
    {
     "name": "stdout",
     "output_type": "stream",
     "text": [
      "{'status': 'success', 'data': {'city': 'Aalen', 'state': 'Baden-Wuerttemberg', 'country': 'Germany', 'location': {'type': 'Point', 'coordinates': [10.131, 48.812]}, 'current': {'weather': {'ts': '2021-04-14T10:00:00.000Z', 'tp': 4, 'pr': 1025, 'hu': 53, 'ws': 3.04, 'wd': 33, 'ic': '04d'}, 'pollution': {'ts': '2021-04-14T12:00:00.000Z', 'aqius': 29, 'mainus': 'p2', 'aqicn': 11, 'maincn': 'p1'}}}}\n",
      "{'status': 'success', 'data': {'city': 'Baden-baden', 'state': 'Baden-Wuerttemberg', 'country': 'Germany', 'location': {'type': 'Point', 'coordinates': [8.243008, 48.758339]}, 'current': {'weather': {'ts': '2021-04-14T10:00:00.000Z', 'tp': 7, 'pr': 1028, 'hu': 49, 'ws': 6.69, 'wd': 10, 'ic': '02d'}, 'pollution': {'ts': '2021-04-14T12:00:00.000Z', 'aqius': 21, 'mainus': 'p2', 'aqicn': 8, 'maincn': 'p1'}}}}\n",
      "{'status': 'success', 'data': {'city': 'Bernhausen', 'state': 'Baden-Wuerttemberg', 'country': 'Germany', 'location': {'type': 'Point', 'coordinates': [9.2249, 48.6763]}, 'current': {'weather': {'ts': '2021-04-14T11:00:00.000Z', 'tp': 5, 'pr': 1027, 'hu': 45, 'ws': 3.09, 'wd': 10, 'ic': '10d'}, 'pollution': {'ts': '2021-04-14T12:00:00.000Z', 'aqius': 37, 'mainus': 'p2', 'aqicn': 13, 'maincn': 'p2'}}}}\n",
      "{'status': 'success', 'data': {'city': 'Biberach', 'state': 'Baden-Wuerttemberg', 'country': 'Germany', 'location': {'type': 'Point', 'coordinates': [9.7902, 48.0951]}, 'current': {'weather': {'ts': '2021-04-14T10:00:00.000Z', 'tp': 6, 'pr': 1025, 'hu': 42, 'ws': 3.09, 'wd': 80, 'ic': '03d'}, 'pollution': {'ts': '2021-04-14T12:00:00.000Z', 'aqius': 29, 'mainus': 'p2', 'aqicn': 10, 'maincn': 'p2'}}}}\n",
      "{'status': 'success', 'data': {'city': 'Eggenstein', 'state': 'Baden-Wuerttemberg', 'country': 'Germany', 'location': {'type': 'Point', 'coordinates': [8.39879, 49.09006]}, 'current': {'weather': {'ts': '2021-04-14T11:00:00.000Z', 'tp': 8, 'pr': 1027, 'hu': 53, 'ws': 3.38, 'wd': 15, 'ic': '03d'}, 'pollution': {'ts': '2021-04-14T12:00:00.000Z', 'aqius': 33, 'mainus': 'o3', 'aqicn': 25, 'maincn': 'o3'}}}}\n",
      "{'status': 'success', 'data': {'city': 'Eppelheim', 'state': 'Baden-Wuerttemberg', 'country': 'Germany', 'location': {'type': 'Point', 'coordinates': [8.63644, 49.4019]}, 'current': {'weather': {'ts': '2021-04-14T11:00:00.000Z', 'tp': 7, 'pr': 1029, 'hu': 53, 'ws': 1.03, 'wd': 0, 'ic': '03d'}, 'pollution': {'ts': '2021-04-14T13:00:00.000Z', 'aqius': 21, 'mainus': 'p2', 'aqicn': 7, 'maincn': 'p2'}}}}\n",
      "{'status': 'success', 'data': {'city': 'Ettlingen', 'state': 'Baden-Wuerttemberg', 'country': 'Germany', 'location': {'type': 'Point', 'coordinates': [8.40847, 48.967385]}, 'current': {'weather': {'ts': '2021-04-14T10:00:00.000Z', 'tp': 8, 'pr': 1025, 'hu': 51, 'ws': 3.15, 'wd': 22, 'ic': '03d'}, 'pollution': {'ts': '2021-04-14T13:00:00.000Z', 'aqius': 21, 'mainus': 'p2', 'aqicn': 7, 'maincn': 'p2'}}}}\n",
      "{'status': 'success', 'data': {'city': 'Freiburg', 'state': 'Baden-Wuerttemberg', 'country': 'Germany', 'location': {'type': 'Point', 'coordinates': [7.809, 47.983]}, 'current': {'weather': {'ts': '2021-04-14T10:00:00.000Z', 'tp': 7, 'pr': 1026, 'hu': 41, 'ws': 0.89, 'wd': 357, 'ic': '02d'}, 'pollution': {'ts': '2021-04-14T12:00:00.000Z', 'aqius': 25, 'mainus': 'p2', 'aqicn': 11, 'maincn': 'n2'}}}}\n",
      "{'status': 'success', 'data': {'city': 'Friedrichshafen', 'state': 'Baden-Wuerttemberg', 'country': 'Germany', 'location': {'type': 'Point', 'coordinates': [9.48, 47.6618]}, 'current': {'weather': {'ts': '2021-04-14T10:00:00.000Z', 'tp': 6, 'pr': 1025, 'hu': 42, 'ws': 5.14, 'wd': 50, 'ic': '04d'}, 'pollution': {'ts': '2021-04-14T12:00:00.000Z', 'aqius': 50, 'mainus': 'p2', 'aqicn': 17, 'maincn': 'p2'}}}}\n",
      "{'status': 'success', 'data': {'city': 'Gartringen', 'state': 'Baden-Wuerttemberg', 'country': 'Germany', 'location': {'type': 'Point', 'coordinates': [8.906, 48.646]}, 'current': {'weather': {'ts': '2021-04-14T11:00:00.000Z', 'tp': 6, 'pr': 1027, 'hu': 52, 'ws': 7.2, 'wd': 30, 'ic': '10d'}, 'pollution': {'ts': '2021-04-14T12:00:00.000Z', 'aqius': 25, 'mainus': 'p2', 'aqicn': 9, 'maincn': 'p2'}}}}\n",
      "{'status': 'success', 'data': {'city': 'Heidelberg', 'state': 'Baden-Wuerttemberg', 'country': 'Germany', 'location': {'type': 'Point', 'coordinates': [8.69, 49.381]}, 'current': {'weather': {'ts': '2021-04-14T10:00:00.000Z', 'tp': 5, 'pr': 1029, 'hu': 57, 'ws': 2.57, 'wd': 90, 'ic': '04d'}, 'pollution': {'ts': '2021-04-14T12:00:00.000Z', 'aqius': 25, 'mainus': 'p2', 'aqicn': 11, 'maincn': 'p1'}}}}\n",
      "{'status': 'success', 'data': {'city': 'Heilbronn', 'state': 'Baden-Wuerttemberg', 'country': 'Germany', 'location': {'type': 'Point', 'coordinates': [9.22054, 49.13995]}, 'current': {'weather': {'ts': '2021-04-14T10:00:00.000Z', 'tp': 6, 'pr': 1027, 'hu': 57, 'ws': 2.89, 'wd': 24, 'ic': '04d'}, 'pollution': {'ts': '2021-04-14T12:00:00.000Z', 'aqius': 25, 'mainus': 'p2', 'aqicn': 12, 'maincn': 'p1'}}}}\n",
      "{'status': 'success', 'data': {'city': 'Karlsruhe', 'state': 'Baden-Wuerttemberg', 'country': 'Germany', 'location': {'type': 'Point', 'coordinates': [8.40444, 49.00937]}, 'current': {'weather': {'ts': '2021-04-14T10:00:00.000Z', 'tp': 8, 'pr': 1025, 'hu': 51, 'ws': 3.06, 'wd': 20, 'ic': '03d'}, 'pollution': {'ts': '2021-04-14T12:00:00.000Z', 'aqius': 33, 'mainus': 'o3', 'aqicn': 25, 'maincn': 'o3'}}}}\n",
      "{'status': 'success', 'data': {'city': 'Kehl', 'state': 'Baden-Wuerttemberg', 'country': 'Germany', 'location': {'type': 'Point', 'coordinates': [7.815230000000001, 48.57297]}, 'current': {'weather': {'ts': '2021-04-14T10:00:00.000Z', 'tp': 8, 'pr': 1028, 'hu': 43, 'ws': 4.63, 'wd': 50, 'ic': '03d'}, 'pollution': {'ts': '2021-04-14T12:00:00.000Z', 'aqius': 41, 'mainus': 'p2', 'aqicn': 17, 'maincn': 'p1'}}}}\n",
      "{'status': 'success', 'data': {'city': 'Konstanz', 'state': 'Baden-Wuerttemberg', 'country': 'Germany', 'location': {'type': 'Point', 'coordinates': [9.169289, 47.664361]}, 'current': {'weather': {'ts': '2021-04-14T10:00:00.000Z', 'tp': 6, 'pr': 1025, 'hu': 54, 'ws': 0.89, 'wd': 135, 'ic': '04d'}, 'pollution': {'ts': '2021-04-14T12:00:00.000Z', 'aqius': 45, 'mainus': 'p2', 'aqicn': 16, 'maincn': 'p2'}}}}\n",
      "{'status': 'success', 'data': {'city': 'Ludwigsburg', 'state': 'Baden-Wuerttemberg', 'country': 'Germany', 'location': {'type': 'Point', 'coordinates': [9.19161, 48.89731]}, 'current': {'weather': {'ts': '2021-04-14T10:00:00.000Z', 'tp': 5, 'pr': 1027, 'hu': 45, 'ws': 3.09, 'wd': 10, 'ic': '04d'}, 'pollution': {'ts': '2021-04-14T12:00:00.000Z', 'aqius': 33, 'mainus': 'p2', 'aqicn': 11, 'maincn': 'p2'}}}}\n",
      "{'status': 'success', 'data': {'city': 'Mannheim', 'state': 'Baden-Wuerttemberg', 'country': 'Germany', 'location': {'type': 'Point', 'coordinates': [8.47, 49.487]}, 'current': {'weather': {'ts': '2021-04-14T10:00:00.000Z', 'tp': 8, 'pr': 1029, 'hu': 57, 'ws': 2.57, 'wd': 90, 'ic': '04d'}, 'pollution': {'ts': '2021-04-14T12:00:00.000Z', 'aqius': 29, 'mainus': 'p2', 'aqicn': 11, 'maincn': 'p1'}}}}\n",
      "{'status': 'fail', 'data': {'message': 'city_not_found'}}\n"
     ]
    },
    {
     "ename": "KeyError",
     "evalue": "'city'",
     "output_type": "error",
     "traceback": [
      "\u001b[0;31m---------------------------------------------------------------------------\u001b[0m",
      "\u001b[0;31mKeyError\u001b[0m                                  Traceback (most recent call last)",
      "\u001b[0;32m<ipython-input-66-486f3258025a>\u001b[0m in \u001b[0;36m<module>\u001b[0;34m\u001b[0m\n\u001b[1;32m     36\u001b[0m         \u001b[0mtime\u001b[0m\u001b[0;34m.\u001b[0m\u001b[0msleep\u001b[0m\u001b[0;34m(\u001b[0m\u001b[0;36m10\u001b[0m\u001b[0;34m)\u001b[0m \u001b[0;31m#we can only get 5 requests per minute\u001b[0m\u001b[0;34m\u001b[0m\u001b[0;34m\u001b[0m\u001b[0m\n\u001b[1;32m     37\u001b[0m \u001b[0;34m\u001b[0m\u001b[0m\n\u001b[0;32m---> 38\u001b[0;31m         data.append([str(data_json['data']['city']), str(data_json['data']['state']),str(data_json['data']['country']),\n\u001b[0m\u001b[1;32m     39\u001b[0m                       \u001b[0mstr\u001b[0m\u001b[0;34m(\u001b[0m\u001b[0mdata_json\u001b[0m\u001b[0;34m[\u001b[0m\u001b[0;34m'data'\u001b[0m\u001b[0;34m]\u001b[0m\u001b[0;34m[\u001b[0m\u001b[0;34m'location'\u001b[0m\u001b[0;34m]\u001b[0m\u001b[0;34m[\u001b[0m\u001b[0;34m'coordinates'\u001b[0m\u001b[0;34m]\u001b[0m\u001b[0;34m)\u001b[0m\u001b[0;34m,\u001b[0m\u001b[0;34m\u001b[0m\u001b[0;34m\u001b[0m\u001b[0m\n\u001b[1;32m     40\u001b[0m                       \u001b[0mstr\u001b[0m\u001b[0;34m(\u001b[0m\u001b[0mdata_json\u001b[0m\u001b[0;34m[\u001b[0m\u001b[0;34m'data'\u001b[0m\u001b[0;34m]\u001b[0m\u001b[0;34m[\u001b[0m\u001b[0;34m'current'\u001b[0m\u001b[0;34m]\u001b[0m\u001b[0;34m[\u001b[0m\u001b[0;34m'weather'\u001b[0m\u001b[0;34m]\u001b[0m\u001b[0;34m[\u001b[0m\u001b[0;34m'ts'\u001b[0m\u001b[0;34m]\u001b[0m\u001b[0;34m)\u001b[0m\u001b[0;34m,\u001b[0m\u001b[0;34m\u001b[0m\u001b[0;34m\u001b[0m\u001b[0m\n",
      "\u001b[0;31mKeyError\u001b[0m: 'city'"
     ]
    }
   ],
   "source": [
    "# Iterate over each state and each city & get data for each city\n",
    "# First I get all cities of each state\n",
    "for i in range(len(states_json)-15):\n",
    "    \n",
    "    state = states_json[i]\n",
    "    city_url = \"http://api.airvisual.com/v2/cities?state={}&country=Germany&key=df7d5666-30f3-4807-ae5f-d433698a4153\"\n",
    "    new_city_url = city_url.format(state['state']) # introduces loaded cities in each German state\n",
    "\n",
    "    response = requests.request(\"GET\", new_city_url, headers=headers, data=payload, files=files)\n",
    "   \n",
    "    #print(response.text.encode('utf8'))\n",
    "   \n",
    "    cities=response.text\n",
    "    cities = cities[cities.find(\"[\"):cities.find(\"]\")+1]\n",
    "    cities_json = json.loads(cities)\n",
    "    cities_json\n",
    "   \n",
    "    time.sleep(5) # time needed for getting each of the cities (only 5 requests per minute)\n",
    "\n",
    "    \n",
    "# Second, get air quality data per each city\n",
    "    for j in range(len(cities_json)): \n",
    "        city = cities_json[j]\n",
    "        data_url = \"http://api.airvisual.com/v2/city?city={}&state={}&country=Germany&key=df7d5666-30f3-4807-ae5f-d433698a4153\"\n",
    "        \n",
    "        new_data_url = data_url.format(city['city'],state['state'])\n",
    "        response_data = requests.request(\"GET\", new_data_url, headers=headers, data=payload, files=files) \n",
    "        data_json = json.loads(response_data.text)\n",
    "        print(data_json)\n",
    "        \n",
    "        if 'data' not in data_json:\n",
    "                break\n",
    "        objects = data_json['data']\n",
    "        if len(objects) == 0:\n",
    "                break\n",
    "        time.sleep(10) #we can only get 5 requests per minute\n",
    "            \n",
    "        data.append([str(data_json['data']['city']), str(data_json['data']['state']),str(data_json['data']['country']),\n",
    "                      str(data_json['data']['location']['coordinates']),\n",
    "                      str(data_json['data']['current']['weather']['ts']),\n",
    "                      str(data_json['data']['current']['weather']['tp']),\n",
    "                      str(data_json['data']['current']['weather']['pr']),\n",
    "                      str(data_json['data']['current']['weather']['hu']),\n",
    "                      str(data_json['data']['current']['weather']['ws']),\n",
    "                      str(data_json['data']['current']['weather']['wd']),\n",
    "                      str(data_json['data']['current']['weather']['ic']),\n",
    "                      str(data_json['data']['current']['pollution']['aqius']),\n",
    "                      str(data_json['data']['current']['pollution']['mainus']),\n",
    "                      str(data_json['data']['current']['pollution']['aqicn']),\n",
    "                      str(data_json['data']['current']['pollution']['maincn']),\n",
    "                     ])"
   ]
  },
  {
   "cell_type": "code",
   "execution_count": null,
   "metadata": {},
   "outputs": [],
   "source": []
  },
  {
   "cell_type": "code",
   "execution_count": null,
   "metadata": {},
   "outputs": [],
   "source": []
  },
  {
   "cell_type": "code",
   "execution_count": null,
   "metadata": {},
   "outputs": [],
   "source": []
  },
  {
   "cell_type": "code",
   "execution_count": 53,
   "metadata": {},
   "outputs": [
    {
     "data": {
      "text/plain": [
       "[{'city': 'Aalen'},\n",
       " {'city': 'Baden-baden'},\n",
       " {'city': 'Bernhausen'},\n",
       " {'city': 'Biberach'},\n",
       " {'city': 'Eggenstein'},\n",
       " {'city': 'Eppelheim'},\n",
       " {'city': 'Ettlingen'},\n",
       " {'city': 'Freiburg'},\n",
       " {'city': 'Friedrichshafen'},\n",
       " {'city': 'Gartringen'},\n",
       " {'city': 'Heidelberg'},\n",
       " {'city': 'Heilbronn'},\n",
       " {'city': 'Karlsruhe'},\n",
       " {'city': 'Kehl'},\n",
       " {'city': 'Konstanz'},\n",
       " {'city': 'Ludwigsburg'},\n",
       " {'city': 'Mannheim'},\n",
       " {'city': 'MÃ¼nstertal/Schwarzwald'},\n",
       " {'city': 'Neuenburg'},\n",
       " {'city': 'Pfalzgrafenweiler'},\n",
       " {'city': 'Pforzheim'},\n",
       " {'city': 'Reutlingen'},\n",
       " {'city': 'Schelklingen'},\n",
       " {'city': 'Schwabische Alb'},\n",
       " {'city': 'Stuttgart'},\n",
       " {'city': 'Stuttgart-Ost'},\n",
       " {'city': 'Tauberbischofsheim'},\n",
       " {'city': 'Tubingen'},\n",
       " {'city': 'Ulm'},\n",
       " {'city': 'Villingen-Schwenningen'},\n",
       " {'city': 'Weil am Rhein'},\n",
       " {'city': 'Wiesloch'}]"
      ]
     },
     "execution_count": 53,
     "metadata": {},
     "output_type": "execute_result"
    }
   ],
   "source": [
    "cities_json"
   ]
  },
  {
   "cell_type": "code",
   "execution_count": null,
   "metadata": {},
   "outputs": [],
   "source": []
  },
  {
   "cell_type": "code",
   "execution_count": null,
   "metadata": {},
   "outputs": [],
   "source": []
  },
  {
   "cell_type": "code",
   "execution_count": null,
   "metadata": {},
   "outputs": [],
   "source": []
  },
  {
   "cell_type": "code",
   "execution_count": 45,
   "metadata": {},
   "outputs": [
    {
     "data": {
      "text/plain": [
       "[{'city': 'Aalen'},\n",
       " {'city': 'Baden-baden'},\n",
       " {'city': 'Bernhausen'},\n",
       " {'city': 'Biberach'},\n",
       " {'city': 'Eggenstein'},\n",
       " {'city': 'Eppelheim'},\n",
       " {'city': 'Ettlingen'},\n",
       " {'city': 'Freiburg'},\n",
       " {'city': 'Friedrichshafen'},\n",
       " {'city': 'Gartringen'},\n",
       " {'city': 'Heidelberg'},\n",
       " {'city': 'Heilbronn'},\n",
       " {'city': 'Karlsruhe'},\n",
       " {'city': 'Kehl'},\n",
       " {'city': 'Konstanz'},\n",
       " {'city': 'Ludwigsburg'},\n",
       " {'city': 'Mannheim'},\n",
       " {'city': 'MÃ¼nstertal/Schwarzwald'},\n",
       " {'city': 'Neuenburg'},\n",
       " {'city': 'Pfalzgrafenweiler'},\n",
       " {'city': 'Pforzheim'},\n",
       " {'city': 'Reutlingen'},\n",
       " {'city': 'Schelklingen'},\n",
       " {'city': 'Schwabische Alb'},\n",
       " {'city': 'Stuttgart'},\n",
       " {'city': 'Stuttgart-Ost'},\n",
       " {'city': 'Tauberbischofsheim'},\n",
       " {'city': 'Tubingen'},\n",
       " {'city': 'Ulm'},\n",
       " {'city': 'Villingen-Schwenningen'},\n",
       " {'city': 'Weil am Rhein'},\n",
       " {'city': 'Wiesloch'}]"
      ]
     },
     "execution_count": 45,
     "metadata": {},
     "output_type": "execute_result"
    }
   ],
   "source": [
    "cities_json"
   ]
  },
  {
   "cell_type": "code",
   "execution_count": 46,
   "metadata": {},
   "outputs": [
    {
     "data": {
      "text/plain": [
       "32"
      ]
     },
     "execution_count": 46,
     "metadata": {},
     "output_type": "execute_result"
    }
   ],
   "source": [
    "len(cities_json)"
   ]
  },
  {
   "cell_type": "code",
   "execution_count": null,
   "metadata": {},
   "outputs": [],
   "source": []
  },
  {
   "cell_type": "code",
   "execution_count": null,
   "metadata": {},
   "outputs": [],
   "source": []
  },
  {
   "cell_type": "code",
   "execution_count": null,
   "metadata": {},
   "outputs": [],
   "source": []
  },
  {
   "cell_type": "code",
   "execution_count": null,
   "metadata": {},
   "outputs": [],
   "source": []
  },
  {
   "cell_type": "code",
   "execution_count": 40,
   "metadata": {},
   "outputs": [
    {
     "data": {
      "text/plain": [
       "[{'city': 'Altenburg'},\n",
       " {'city': 'Eisenach'},\n",
       " {'city': 'Erfurt'},\n",
       " {'city': 'Gehlberg'},\n",
       " {'city': 'Gera'},\n",
       " {'city': 'Greiz'},\n",
       " {'city': 'Hummelshain'},\n",
       " {'city': 'Meiningen'},\n",
       " {'city': 'Mühlhausen/Thüringen'},\n",
       " {'city': 'Neuhaus am Rennweg'},\n",
       " {'city': 'Saalfeld'},\n",
       " {'city': 'Sondershausen'},\n",
       " {'city': 'Suhl'},\n",
       " {'city': 'Weimar'}]"
      ]
     },
     "execution_count": 40,
     "metadata": {},
     "output_type": "execute_result"
    }
   ],
   "source": [
    "cities_json"
   ]
  },
  {
   "cell_type": "code",
   "execution_count": null,
   "metadata": {},
   "outputs": [],
   "source": []
  },
  {
   "cell_type": "code",
   "execution_count": null,
   "metadata": {},
   "outputs": [],
   "source": []
  },
  {
   "cell_type": "code",
   "execution_count": null,
   "metadata": {},
   "outputs": [],
   "source": []
  }
 ],
 "metadata": {
  "kernelspec": {
   "display_name": "Python 3",
   "language": "python",
   "name": "python3"
  },
  "language_info": {
   "codemirror_mode": {
    "name": "ipython",
    "version": 3
   },
   "file_extension": ".py",
   "mimetype": "text/x-python",
   "name": "python",
   "nbconvert_exporter": "python",
   "pygments_lexer": "ipython3",
   "version": "3.7.7"
  }
 },
 "nbformat": 4,
 "nbformat_minor": 4
}
