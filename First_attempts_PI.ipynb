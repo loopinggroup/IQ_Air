{
 "cells": [
  {
   "cell_type": "code",
   "execution_count": 1,
   "metadata": {},
   "outputs": [
    {
     "name": "stderr",
     "output_type": "stream",
     "text": [
      "/Users/pilarcuellar/.pyenv/versions/3.7.7/lib/python3.7/site-packages/pandas/compat/__init__.py:120: UserWarning: Could not import the lzma module. Your installed Python is incomplete. Attempting to use lzma compression will result in a RuntimeError.\n",
      "  warnings.warn(msg)\n"
     ]
    },
    {
     "name": "stdout",
     "output_type": "stream",
     "text": [
      "b'{\"status\":\"success\",\"data\":{\"city\":\"Los Angeles\",\"state\":\"California\",\"country\":\"USA\",\"location\":{\"type\":\"Point\",\"coordinates\":[-118.2417,34.0669]},\"current\":{\"weather\":{\"ts\":\"2021-03-03T11:00:00.000Z\",\"tp\":8,\"pr\":1008,\"hu\":76,\"ws\":0.96,\"wd\":134,\"ic\":\"01n\"},\"pollution\":{\"ts\":\"2021-03-03T11:00:00.000Z\",\"aqius\":45,\"mainus\":\"p2\",\"aqicn\":16,\"maincn\":\"p2\"}}}}'\n"
     ]
    }
   ],
   "source": [
    "#API DOCUMENTATION - https://api-docs.iqair.com/?version=latest#get-started\n",
    "\n",
    "import requests\n",
    "import pandas as pd\n",
    "\n",
    "url = \"http://api.airvisual.com/v2/city?city=Los Angeles&state=California&country=USA&key=2dc3fa8e-710c-4be1-8205-3e3946fd92cf\"\n",
    "url2 = \"http://api.airvisual.com/v2/city?city=Los Angeles&state=California&country=USA&key=2dc3fa8e-710c-4be1-8205-3e3946fd92cf\"\n",
    "payload = {}\n",
    "headers= {}\n",
    "\n",
    "response = requests.request(\"GET\", url, headers=headers, data = payload)\n",
    "\n",
    "print(response.text.encode('utf8'))"
   ]
  },
  {
   "cell_type": "code",
   "execution_count": 2,
   "metadata": {},
   "outputs": [
    {
     "name": "stdout",
     "output_type": "stream",
     "text": [
      "b'{\"status\":\"success\",\"data\":[{\"city\":\"Aalen\"},{\"city\":\"Baden-baden\"},{\"city\":\"Bernhausen\"},{\"city\":\"Biberach\"},{\"city\":\"Eggenstein\"},{\"city\":\"Eppelheim\"},{\"city\":\"Ettlingen\"},{\"city\":\"Freiburg\"},{\"city\":\"Friedrichshafen\"},{\"city\":\"Gartringen\"},{\"city\":\"Heidelberg\"},{\"city\":\"Heilbronn\"},{\"city\":\"Karlsruhe\"},{\"city\":\"Kehl\"},{\"city\":\"Konstanz\"},{\"city\":\"Ludwigsburg\"},{\"city\":\"Mannheim\"},{\"city\":\"M\\xc3\\x83\\xc2\\xbcnstertal/Schwarzwald\"},{\"city\":\"Neuenburg\"},{\"city\":\"Oberried\"},{\"city\":\"Pfalzgrafenweiler\"},{\"city\":\"Pforzheim\"},{\"city\":\"Reutlingen\"},{\"city\":\"Schelklingen\"},{\"city\":\"Schwabische Alb\"},{\"city\":\"Stuttgart\"},{\"city\":\"Tauberbischofsheim\"},{\"city\":\"Tubingen\"},{\"city\":\"Ulm\"},{\"city\":\"Villingen-Schwenningen\"},{\"city\":\"Weil am Rhein\"},{\"city\":\"Wiesloch\"}]}'\n"
     ]
    }
   ],
   "source": [
    "url = \"http://api.airvisual.com/v2/cities?state=Baden-Wuerttemberg&country=Germany&key=2dc3fa8e-710c-4be1-8205-3e3946fd92cf\"\n",
    "\n",
    "payload = {}\n",
    "headers= {}\n",
    "\n",
    "response = requests.request(\"GET\", url, headers=headers, data = payload)\n",
    "\n",
    "print(response.text.encode('utf8'))"
   ]
  },
  {
   "cell_type": "code",
   "execution_count": 3,
   "metadata": {},
   "outputs": [
    {
     "name": "stdout",
     "output_type": "stream",
     "text": [
      "b'{\"status\":\"success\",\"data\":[{\"state\":\"Baden-Wuerttemberg\"},{\"state\":\"Bavaria\"},{\"state\":\"Berlin\"},{\"state\":\"Brandenburg\"},{\"state\":\"Bremen\"},{\"state\":\"Hamburg\"},{\"state\":\"Hessen\"},{\"state\":\"Lower Saxony\"},{\"state\":\"Mecklenburg-Vorpommern\"},{\"state\":\"Nordrhein-Westfalen\"},{\"state\":\"Rheinland-Pfalz\"},{\"state\":\"Saarland\"},{\"state\":\"Saxony\"},{\"state\":\"Saxony-Anhalt\"},{\"state\":\"Schleswig-Holstein\"},{\"state\":\"Thuringia\"}]}'\n"
     ]
    }
   ],
   "source": [
    "url = \"http://api.airvisual.com/v2/states?country=Germany&key=2dc3fa8e-710c-4be1-8205-3e3946fd92cf\"\n",
    "\n",
    "payload = {}\n",
    "headers= {}\n",
    "\n",
    "response = requests.request(\"GET\", url, headers=headers, data = payload)\n",
    "\n",
    "print(response.text.encode('utf8'))"
   ]
  },
  {
   "cell_type": "code",
   "execution_count": null,
   "metadata": {},
   "outputs": [],
   "source": []
  }
 ],
 "metadata": {
  "kernelspec": {
   "display_name": "Python 3",
   "language": "python",
   "name": "python3"
  },
  "language_info": {
   "codemirror_mode": {
    "name": "ipython",
    "version": 3
   },
   "file_extension": ".py",
   "mimetype": "text/x-python",
   "name": "python",
   "nbconvert_exporter": "python",
   "pygments_lexer": "ipython3",
   "version": "3.7.7"
  }
 },
 "nbformat": 4,
 "nbformat_minor": 4
}
