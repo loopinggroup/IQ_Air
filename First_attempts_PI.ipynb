{
 "cells": [
  {
   "cell_type": "code",
   "execution_count": 1,
   "metadata": {},
   "outputs": [
    {
     "name": "stderr",
     "output_type": "stream",
     "text": [
      "/Users/pilarcuellar/.pyenv/versions/3.7.7/lib/python3.7/site-packages/pandas/compat/__init__.py:120: UserWarning: Could not import the lzma module. Your installed Python is incomplete. Attempting to use lzma compression will result in a RuntimeError.\n",
      "  warnings.warn(msg)\n"
     ]
    }
   ],
   "source": [
    "#API DOCUMENTATION - https://api-docs.iqair.com/?version=latest#get-started\n",
    "\n",
    "import requests\n",
    "import pandas as pd\n",
    "\n",
    "import urllib.request\n",
    "import json"
   ]
  },
  {
   "cell_type": "code",
   "execution_count": 3,
   "metadata": {},
   "outputs": [
    {
     "name": "stdout",
     "output_type": "stream",
     "text": [
      "b'{\"status\":\"success\",\"data\":[{\"state\":\"Baden-Wuerttemberg\"},{\"state\":\"Bavaria\"},{\"state\":\"Berlin\"},{\"state\":\"Brandenburg\"},{\"state\":\"Bremen\"},{\"state\":\"Hamburg\"},{\"state\":\"Hessen\"},{\"state\":\"Lower Saxony\"},{\"state\":\"Mecklenburg-Vorpommern\"},{\"state\":\"Nordrhein-Westfalen\"},{\"state\":\"Rheinland-Pfalz\"},{\"state\":\"Saarland\"},{\"state\":\"Saxony\"},{\"state\":\"Saxony-Anhalt\"},{\"state\":\"Schleswig-Holstein\"},{\"state\":\"Thuringia\"}]}'\n"
     ]
    }
   ],
   "source": [
    "url = \"http://api.airvisual.com/v2/states?country=Germany&key=2dc3fa8e-710c-4be1-8205-3e3946fd92cf\"\n",
    "\n",
    "payload = {}\n",
    "headers= {}\n",
    "\n",
    "response = requests.request(\"GET\", url, headers=headers, data = payload)\n",
    "\n",
    "print(response.text.encode('utf8'))"
   ]
  },
  {
   "cell_type": "code",
   "execution_count": 24,
   "metadata": {},
   "outputs": [
    {
     "name": "stdout",
     "output_type": "stream",
     "text": [
      "b'{\"status\":\"success\",\"data\":[{\"state\":\"Baden-Wuerttemberg\"},{\"state\":\"Bavaria\"},{\"state\":\"Berlin\"},{\"state\":\"Brandenburg\"},{\"state\":\"Bremen\"},{\"state\":\"Hamburg\"},{\"state\":\"Hessen\"},{\"state\":\"Lower Saxony\"},{\"state\":\"Mecklenburg-Vorpommern\"},{\"state\":\"Nordrhein-Westfalen\"},{\"state\":\"Rheinland-Pfalz\"},{\"state\":\"Saarland\"},{\"state\":\"Saxony\"},{\"state\":\"Saxony-Anhalt\"},{\"state\":\"Schleswig-Holstein\"},{\"state\":\"Thuringia\"}]}'\n"
     ]
    }
   ],
   "source": [
    "with urllib.request.urlopen(\"http://api.airvisual.com/v2/states?country=Germany&key=2dc3fa8e-710c-4be1-8205-3e3946fd92cf\") as url:\n",
    "    s = url.read()\n",
    "    # I'm guessing this would output the html source code ?\n",
    "    print(s)"
   ]
  },
  {
   "cell_type": "code",
   "execution_count": 115,
   "metadata": {},
   "outputs": [
    {
     "name": "stdout",
     "output_type": "stream",
     "text": [
      "[{'state': 'Baden-Wuerttemberg'}, {'state': 'Bavaria'}, {'state': 'Berlin'}, {'state': 'Brandenburg'}, {'state': 'Bremen'}, {'state': 'Hamburg'}, {'state': 'Hessen'}, {'state': 'Lower Saxony'}, {'state': 'Mecklenburg-Vorpommern'}, {'state': 'Nordrhein-Westfalen'}, {'state': 'Rheinland-Pfalz'}, {'state': 'Saarland'}, {'state': 'Saxony'}, {'state': 'Saxony-Anhalt'}, {'state': 'Schleswig-Holstein'}, {'state': 'Thuringia'}]\n"
     ]
    }
   ],
   "source": [
    "response = requests.get(\"http://api.airvisual.com/v2/states?country=Germany&key=2dc3fa8e-710c-4be1-8205-3e3946fd92cf\")  # api call\n",
    "\n",
    "jsonString = json.loads(response.text)['data']\n",
    "print(jsonString)\n",
    "#for j in jsonString:\n",
    "#    print(j)\n",
    "   #for ob in j:\n",
    "   #    print(ob)"
   ]
  },
  {
   "cell_type": "code",
   "execution_count": 119,
   "metadata": {},
   "outputs": [
    {
     "data": {
      "text/plain": [
       "list"
      ]
     },
     "execution_count": 119,
     "metadata": {},
     "output_type": "execute_result"
    }
   ],
   "source": [
    "type(jsonString)"
   ]
  },
  {
   "cell_type": "code",
   "execution_count": 120,
   "metadata": {
    "collapsed": true
   },
   "outputs": [
    {
     "data": {
      "text/html": [
       "<div>\n",
       "<style scoped>\n",
       "    .dataframe tbody tr th:only-of-type {\n",
       "        vertical-align: middle;\n",
       "    }\n",
       "\n",
       "    .dataframe tbody tr th {\n",
       "        vertical-align: top;\n",
       "    }\n",
       "\n",
       "    .dataframe thead th {\n",
       "        text-align: right;\n",
       "    }\n",
       "</style>\n",
       "<table border=\"1\" class=\"dataframe\">\n",
       "  <thead>\n",
       "    <tr style=\"text-align: right;\">\n",
       "      <th></th>\n",
       "      <th>states</th>\n",
       "    </tr>\n",
       "  </thead>\n",
       "  <tbody>\n",
       "    <tr>\n",
       "      <th>0</th>\n",
       "      <td>NaN</td>\n",
       "    </tr>\n",
       "    <tr>\n",
       "      <th>1</th>\n",
       "      <td>NaN</td>\n",
       "    </tr>\n",
       "    <tr>\n",
       "      <th>2</th>\n",
       "      <td>NaN</td>\n",
       "    </tr>\n",
       "    <tr>\n",
       "      <th>3</th>\n",
       "      <td>NaN</td>\n",
       "    </tr>\n",
       "    <tr>\n",
       "      <th>4</th>\n",
       "      <td>NaN</td>\n",
       "    </tr>\n",
       "    <tr>\n",
       "      <th>5</th>\n",
       "      <td>NaN</td>\n",
       "    </tr>\n",
       "    <tr>\n",
       "      <th>6</th>\n",
       "      <td>NaN</td>\n",
       "    </tr>\n",
       "    <tr>\n",
       "      <th>7</th>\n",
       "      <td>NaN</td>\n",
       "    </tr>\n",
       "    <tr>\n",
       "      <th>8</th>\n",
       "      <td>NaN</td>\n",
       "    </tr>\n",
       "    <tr>\n",
       "      <th>9</th>\n",
       "      <td>NaN</td>\n",
       "    </tr>\n",
       "    <tr>\n",
       "      <th>10</th>\n",
       "      <td>NaN</td>\n",
       "    </tr>\n",
       "    <tr>\n",
       "      <th>11</th>\n",
       "      <td>NaN</td>\n",
       "    </tr>\n",
       "    <tr>\n",
       "      <th>12</th>\n",
       "      <td>NaN</td>\n",
       "    </tr>\n",
       "    <tr>\n",
       "      <th>13</th>\n",
       "      <td>NaN</td>\n",
       "    </tr>\n",
       "    <tr>\n",
       "      <th>14</th>\n",
       "      <td>NaN</td>\n",
       "    </tr>\n",
       "    <tr>\n",
       "      <th>15</th>\n",
       "      <td>NaN</td>\n",
       "    </tr>\n",
       "  </tbody>\n",
       "</table>\n",
       "</div>"
      ],
      "text/plain": [
       "    states\n",
       "0      NaN\n",
       "1      NaN\n",
       "2      NaN\n",
       "3      NaN\n",
       "4      NaN\n",
       "5      NaN\n",
       "6      NaN\n",
       "7      NaN\n",
       "8      NaN\n",
       "9      NaN\n",
       "10     NaN\n",
       "11     NaN\n",
       "12     NaN\n",
       "13     NaN\n",
       "14     NaN\n",
       "15     NaN"
      ]
     },
     "execution_count": 120,
     "metadata": {},
     "output_type": "execute_result"
    }
   ],
   "source": [
    "df = pd.DataFrame(jsonString, columns = ['states':])\n"
   ]
  },
  {
   "cell_type": "code",
   "execution_count": null,
   "metadata": {},
   "outputs": [],
   "source": []
  },
  {
   "cell_type": "code",
   "execution_count": null,
   "metadata": {},
   "outputs": [],
   "source": []
  }
 ],
 "metadata": {
  "kernelspec": {
   "display_name": "Python 3",
   "language": "python",
   "name": "python3"
  },
  "language_info": {
   "codemirror_mode": {
    "name": "ipython",
    "version": 3
   },
   "file_extension": ".py",
   "mimetype": "text/x-python",
   "name": "python",
   "nbconvert_exporter": "python",
   "pygments_lexer": "ipython3",
   "version": "3.7.7"
  }
 },
 "nbformat": 4,
 "nbformat_minor": 4
}
