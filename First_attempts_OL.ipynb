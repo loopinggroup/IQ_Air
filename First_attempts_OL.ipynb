{
 "cells": [
  {
   "cell_type": "code",
   "execution_count": 18,
   "metadata": {},
   "outputs": [
    {
     "name": "stdout",
     "output_type": "stream",
     "text": [
      "b'{\"status\":\"success\",\"data\":{\"city\":\"Los Angeles\",\"state\":\"California\",\"country\":\"USA\",\"location\":{\"type\":\"Point\",\"coordinates\":[-118.2417,34.0669]},\"current\":{\"weather\":{\"ts\":\"2021-02-24T15:00:00.000Z\",\"tp\":11,\"pr\":1017,\"hu\":58,\"ws\":1.13,\"wd\":112,\"ic\":\"01d\"},\"pollution\":{\"ts\":\"2021-02-24T15:00:00.000Z\",\"aqius\":61,\"mainus\":\"p2\",\"aqicn\":24,\"maincn\":\"p2\"}}}}'\n"
     ]
    }
   ],
   "source": [
    "#API DOCUMENTATION - https://api-docs.iqair.com/?version=latest#get-started\n",
    "\n",
    "\n",
    "import requests\n",
    "import pandas as pd\n",
    "\n",
    "url = \"http://api.airvisual.com/v2/city?city=Los Angeles&state=California&country=USA&key=df7d5666-30f3-4807-ae5f-d433698a4153\"\n",
    "url2 = \"http://api.airvisual.com/v2/city?city=Los Angeles&state=California&country=USA&key=df7d5666-30f3-4807-ae5f-d433698a4153\"\n",
    "payload = {}\n",
    "headers= {}\n",
    "\n",
    "response = requests.request(\"GET\", url, headers=headers, data = payload)\n",
    "\n",
    "print(response.text.encode('utf8'))"
   ]
  },
  {
   "cell_type": "code",
   "execution_count": 17,
   "metadata": {},
   "outputs": [
    {
     "name": "stdout",
     "output_type": "stream",
     "text": [
      "b'{\"status\":\"success\",\"data\":[{\"city\":\"Aalen\"},{\"city\":\"Baden-baden\"},{\"city\":\"Bernhausen\"},{\"city\":\"Biberach\"},{\"city\":\"Eggenstein\"},{\"city\":\"Eppelheim\"},{\"city\":\"Ettlingen\"},{\"city\":\"Freiburg\"},{\"city\":\"Friedrichshafen\"},{\"city\":\"Gartringen\"},{\"city\":\"Heidelberg\"},{\"city\":\"Heilbronn\"},{\"city\":\"Karlsruhe\"},{\"city\":\"Kehl\"},{\"city\":\"Konstanz\"},{\"city\":\"Ludwigsburg\"},{\"city\":\"Mannheim\"},{\"city\":\"M\\xc3\\x83\\xc2\\xbcnstertal/Schwarzwald\"},{\"city\":\"Neuenburg\"},{\"city\":\"Oberried\"},{\"city\":\"Pfalzgrafenweiler\"},{\"city\":\"Pforzheim\"},{\"city\":\"Reutlingen\"},{\"city\":\"Schelklingen\"},{\"city\":\"Schwabische Alb\"},{\"city\":\"Stuttgart\"},{\"city\":\"Tauberbischofsheim\"},{\"city\":\"Tubingen\"},{\"city\":\"Ulm\"},{\"city\":\"Villingen-Schwenningen\"},{\"city\":\"Weil am Rhein\"},{\"city\":\"Wiesloch\"}]}'\n"
     ]
    }
   ],
   "source": [
    "url = \"http://api.airvisual.com/v2/cities?state=Baden-Wuerttemberg&country=Germany&key=df7d5666-30f3-4807-ae5f-d433698a4153\"\n",
    "\n",
    "payload = {}\n",
    "headers= {}\n",
    "\n",
    "response = requests.request(\"GET\", url, headers=headers, data = payload)\n",
    "\n",
    "print(response.text.encode('utf8'))"
   ]
  },
  {
   "cell_type": "code",
   "execution_count": 14,
   "metadata": {},
   "outputs": [
    {
     "name": "stdout",
     "output_type": "stream",
     "text": [
      "b'{\"status\":\"success\",\"data\":[{\"state\":\"Baden-Wuerttemberg\"},{\"state\":\"Bavaria\"},{\"state\":\"Berlin\"},{\"state\":\"Brandenburg\"},{\"state\":\"Bremen\"},{\"state\":\"Hamburg\"},{\"state\":\"Hessen\"},{\"state\":\"Lower Saxony\"},{\"state\":\"Mecklenburg-Vorpommern\"},{\"state\":\"Nordrhein-Westfalen\"},{\"state\":\"Rheinland-Pfalz\"},{\"state\":\"Saarland\"},{\"state\":\"Saxony\"},{\"state\":\"Saxony-Anhalt\"},{\"state\":\"Schleswig-Holstein\"},{\"state\":\"Thuringia\"}]}'\n"
     ]
    }
   ],
   "source": [
    "url = \"http://api.airvisual.com/v2/states?country=Germany&key=df7d5666-30f3-4807-ae5f-d433698a4153\"\n",
    "\n",
    "payload = {}\n",
    "headers= {}\n",
    "\n",
    "response = requests.request(\"GET\", url, headers=headers, data = payload)\n",
    "\n",
    "print(response.text.encode('utf8'))"
   ]
  },
  {
   "cell_type": "code",
   "execution_count": 11,
   "metadata": {},
   "outputs": [
    {
     "ename": "TypeError",
     "evalue": "object of type 'Response' has no len()",
     "output_type": "error",
     "traceback": [
      "\u001b[0;31m---------------------------------------------------------------------------\u001b[0m",
      "\u001b[0;31mTypeError\u001b[0m                                 Traceback (most recent call last)",
      "\u001b[0;32m<ipython-input-11-026e63874ba4>\u001b[0m in \u001b[0;36m<module>\u001b[0;34m()\u001b[0m\n\u001b[0;32m----> 1\u001b[0;31m \u001b[0mdf\u001b[0m \u001b[0;34m=\u001b[0m \u001b[0mpd\u001b[0m\u001b[0;34m.\u001b[0m\u001b[0mDataFrame\u001b[0m\u001b[0;34m.\u001b[0m\u001b[0mfrom_records\u001b[0m\u001b[0;34m(\u001b[0m\u001b[0mresponse\u001b[0m\u001b[0;34m)\u001b[0m\u001b[0;34m[\u001b[0m\u001b[0;34m[\u001b[0m\u001b[0;34m\"country\"\u001b[0m\u001b[0;34m]\u001b[0m\u001b[0;34m]\u001b[0m\u001b[0;34m\u001b[0m\u001b[0m\n\u001b[0m",
      "\u001b[0;32m~/.local/lib/python3.6/site-packages/pandas/core/frame.py\u001b[0m in \u001b[0;36mfrom_records\u001b[0;34m(cls, data, index, exclude, columns, coerce_float, nrows)\u001b[0m\n\u001b[1;32m   1789\u001b[0m             \u001b[0marr_columns\u001b[0m \u001b[0;34m=\u001b[0m \u001b[0mcolumns\u001b[0m\u001b[0;34m\u001b[0m\u001b[0m\n\u001b[1;32m   1790\u001b[0m         \u001b[0;32melse\u001b[0m\u001b[0;34m:\u001b[0m\u001b[0;34m\u001b[0m\u001b[0m\n\u001b[0;32m-> 1791\u001b[0;31m             \u001b[0marrays\u001b[0m\u001b[0;34m,\u001b[0m \u001b[0marr_columns\u001b[0m \u001b[0;34m=\u001b[0m \u001b[0mto_arrays\u001b[0m\u001b[0;34m(\u001b[0m\u001b[0mdata\u001b[0m\u001b[0;34m,\u001b[0m \u001b[0mcolumns\u001b[0m\u001b[0;34m,\u001b[0m \u001b[0mcoerce_float\u001b[0m\u001b[0;34m=\u001b[0m\u001b[0mcoerce_float\u001b[0m\u001b[0;34m)\u001b[0m\u001b[0;34m\u001b[0m\u001b[0m\n\u001b[0m\u001b[1;32m   1792\u001b[0m \u001b[0;34m\u001b[0m\u001b[0m\n\u001b[1;32m   1793\u001b[0m             \u001b[0marr_columns\u001b[0m \u001b[0;34m=\u001b[0m \u001b[0mensure_index\u001b[0m\u001b[0;34m(\u001b[0m\u001b[0marr_columns\u001b[0m\u001b[0;34m)\u001b[0m\u001b[0;34m\u001b[0m\u001b[0m\n",
      "\u001b[0;32m~/.local/lib/python3.6/site-packages/pandas/core/internals/construction.py\u001b[0m in \u001b[0;36mto_arrays\u001b[0;34m(data, columns, coerce_float, dtype)\u001b[0m\n\u001b[1;32m    515\u001b[0m         \u001b[0;32mreturn\u001b[0m \u001b[0marrays\u001b[0m\u001b[0;34m,\u001b[0m \u001b[0mcolumns\u001b[0m\u001b[0;34m\u001b[0m\u001b[0m\n\u001b[1;32m    516\u001b[0m \u001b[0;34m\u001b[0m\u001b[0m\n\u001b[0;32m--> 517\u001b[0;31m     \u001b[0;32mif\u001b[0m \u001b[0;32mnot\u001b[0m \u001b[0mlen\u001b[0m\u001b[0;34m(\u001b[0m\u001b[0mdata\u001b[0m\u001b[0;34m)\u001b[0m\u001b[0;34m:\u001b[0m\u001b[0;34m\u001b[0m\u001b[0m\n\u001b[0m\u001b[1;32m    518\u001b[0m         \u001b[0;32mif\u001b[0m \u001b[0misinstance\u001b[0m\u001b[0;34m(\u001b[0m\u001b[0mdata\u001b[0m\u001b[0;34m,\u001b[0m \u001b[0mnp\u001b[0m\u001b[0;34m.\u001b[0m\u001b[0mndarray\u001b[0m\u001b[0;34m)\u001b[0m\u001b[0;34m:\u001b[0m\u001b[0;34m\u001b[0m\u001b[0m\n\u001b[1;32m    519\u001b[0m             \u001b[0mcolumns\u001b[0m \u001b[0;34m=\u001b[0m \u001b[0mdata\u001b[0m\u001b[0;34m.\u001b[0m\u001b[0mdtype\u001b[0m\u001b[0;34m.\u001b[0m\u001b[0mnames\u001b[0m\u001b[0;34m\u001b[0m\u001b[0m\n",
      "\u001b[0;31mTypeError\u001b[0m: object of type 'Response' has no len()"
     ]
    }
   ],
   "source": [
    "df = pd.DataFrame.from_records(response)[[\"country\"]]"
   ]
  },
  {
   "cell_type": "code",
   "execution_count": null,
   "metadata": {},
   "outputs": [],
   "source": [
    "######What we need to do\n",
    "\n",
    "###SETUP WORK\n",
    "\n",
    "#Set up Github repostiory (Pily)\n",
    "#Push this file to Jupyter Notebook (Oli)\n",
    "#How to workshop: requirements.txt & create virtual environment (Oli - next session)\n",
    "#Create a storage & SQL database in Azure (Oli -next session)\n",
    "\n",
    "###REQUEST HANDLING WORK - (Oli & Pily)\n",
    "\n",
    "#Request the list of German cities (JN)\n",
    "#if we cannot take all cities, lets exclude the smallest ones (max 300 cities)\n",
    "#Request air quality & weather data for each city\n",
    "#Make a df out of it:\n",
    "#date (everyday)\n",
    "#city\n",
    "#country - Germany\n",
    "#geolocation (might not be important to get from the api)\n",
    "#all features\n",
    "\n",
    "###MIGRATE DATA FROM PC TO AZURE\n",
    "#dump data to the storage (Oli)\n",
    "#dump data to SQL database (Oli)\n",
    "\n",
    "\n",
    "###THINK ABOUT VIS\n",
    "\n",
    "###Make the requests daily - append new data to old df & dump to Azure\n",
    "\n"
   ]
  }
 ],
 "metadata": {
  "kernelspec": {
   "display_name": "Python 3",
   "language": "python",
   "name": "python3"
  },
  "language_info": {
   "codemirror_mode": {
    "name": "ipython",
    "version": 3
   },
   "file_extension": ".py",
   "mimetype": "text/x-python",
   "name": "python",
   "nbconvert_exporter": "python",
   "pygments_lexer": "ipython3",
   "version": "3.7.7"
  }
 },
 "nbformat": 4,
 "nbformat_minor": 2
}
