{
 "cells": [
  {
   "cell_type": "code",
   "execution_count": 29,
   "metadata": {},
   "outputs": [
    {
     "name": "stdout",
     "output_type": "stream",
     "text": [
      "b'{\"status\":\"success\",\"data\":{\"city\":\"Los Angeles\",\"state\":\"California\",\"country\":\"USA\",\"location\":{\"type\":\"Point\",\"coordinates\":[-118.2417,34.0669]},\"current\":{\"weather\":{\"ts\":\"2021-03-17T20:00:00.000Z\",\"tp\":16,\"pr\":1020,\"hu\":36,\"ws\":1.84,\"wd\":199,\"ic\":\"01d\"},\"pollution\":{\"ts\":\"2021-03-17T20:00:00.000Z\",\"aqius\":35,\"mainus\":\"p2\",\"aqicn\":12,\"maincn\":\"p2\"}}}}'\n"
     ]
    }
   ],
   "source": [
    "#API DOCUMENTATION - https://api-docs.iqair.com/?version=latest#get-started\n",
    "\n",
    "\n",
    "import requests\n",
    "import pandas as pd\n",
    "import json\n",
    "\n",
    "url = \"http://api.airvisual.com/v2/city?city=Los Angeles&state=California&country=USA&key=df7d5666-30f3-4807-ae5f-d433698a4153\"\n",
    "url2 = \"http://api.airvisual.com/v2/city?city=Los Angeles&state=California&country=USA&key=df7d5666-30f3-4807-ae5f-d433698a4153\"\n",
    "payload = {}\n",
    "headers= {}\n",
    "\n",
    "response = requests.request(\"GET\", url, headers=headers, data = payload)\n",
    "\n",
    "print(response.text.encode('utf8'))"
   ]
  },
  {
   "cell_type": "code",
   "execution_count": 42,
   "metadata": {},
   "outputs": [
    {
     "name": "stdout",
     "output_type": "stream",
     "text": [
      "b'{\"status\":\"success\",\"data\":[{\"city\":\"Aalen\"},{\"city\":\"Baden-baden\"},{\"city\":\"Bernhausen\"},{\"city\":\"Biberach\"},{\"city\":\"Eggenstein\"},{\"city\":\"Eppelheim\"},{\"city\":\"Ettlingen\"},{\"city\":\"Freiburg\"},{\"city\":\"Friedrichshafen\"},{\"city\":\"Gartringen\"},{\"city\":\"Heidelberg\"},{\"city\":\"Heilbronn\"},{\"city\":\"Karlsruhe\"},{\"city\":\"Kehl\"},{\"city\":\"Konstanz\"},{\"city\":\"Ludwigsburg\"},{\"city\":\"Mannheim\"},{\"city\":\"M\\xc3\\x83\\xc2\\xbcnstertal/Schwarzwald\"},{\"city\":\"Neuenburg\"},{\"city\":\"Oberried\"},{\"city\":\"Pfalzgrafenweiler\"},{\"city\":\"Pforzheim\"},{\"city\":\"Reutlingen\"},{\"city\":\"Schelklingen\"},{\"city\":\"Schwabische Alb\"},{\"city\":\"Stuttgart\"},{\"city\":\"Stuttgart-Ost\"},{\"city\":\"Tauberbischofsheim\"},{\"city\":\"Tubingen\"},{\"city\":\"Ulm\"},{\"city\":\"Villingen-Schwenningen\"},{\"city\":\"Weil am Rhein\"},{\"city\":\"Wiesloch\"}]}'\n"
     ]
    }
   ],
   "source": [
    "url = \"http://api.airvisual.com/v2/cities?state=Baden-Wuerttemberg&country=Germany&key=df7d5666-30f3-4807-ae5f-d433698a4153\"\n",
    "\n",
    "payload={}\n",
    "files={}\n",
    "headers = {}\n",
    "\n",
    "response = requests.request(\"GET\", url, headers=headers, data=payload, files=files)\n",
    "\n",
    "print(response.text.encode('utf8'))\n",
    "\n",
    "states=response.text"
   ]
  },
  {
   "cell_type": "code",
   "execution_count": 34,
   "metadata": {},
   "outputs": [
    {
     "data": {
      "text/plain": [
       "[{'state': 'Baden-Wuerttemberg'},\n",
       " {'state': 'Bavaria'},\n",
       " {'state': 'Berlin'},\n",
       " {'state': 'Brandenburg'},\n",
       " {'state': 'Bremen'},\n",
       " {'state': 'Hamburg'},\n",
       " {'state': 'Hessen'},\n",
       " {'state': 'Lower Saxony'},\n",
       " {'state': 'Mecklenburg-Vorpommern'},\n",
       " {'state': 'Nordrhein-Westfalen'},\n",
       " {'state': 'Rheinland-Pfalz'},\n",
       " {'state': 'Saarland'},\n",
       " {'state': 'Saxony'},\n",
       " {'state': 'Saxony-Anhalt'},\n",
       " {'state': 'Schleswig-Holstein'},\n",
       " {'state': 'Thuringia'}]"
      ]
     },
     "execution_count": 34,
     "metadata": {},
     "output_type": "execute_result"
    }
   ],
   "source": [
    "#state_dict = list(response.text)\n",
    "\n",
    "states = states[states.find(\"[\"):states.find(\"]\")+1]\n",
    "states_json = json.loads(states)\n",
    "states_json"
   ]
  },
  {
   "cell_type": "code",
   "execution_count": 44,
   "metadata": {},
   "outputs": [
    {
     "data": {
      "text/plain": [
       "'Baden-Wuerttemberg'"
      ]
     },
     "execution_count": 44,
     "metadata": {},
     "output_type": "execute_result"
    }
   ],
   "source": [
    "states_json[0]['state']\n"
   ]
  },
  {
   "cell_type": "code",
   "execution_count": null,
   "metadata": {},
   "outputs": [],
   "source": [
    "url = \"http://api.airvisual.com/v2/cities?state={}&country=Germany&key=df7d5666-30f3-4807-ae5f-d433698a4153\""
   ]
  },
  {
   "cell_type": "code",
   "execution_count": null,
   "metadata": {},
   "outputs": [],
   "source": [
    "new_url = url.format(object_type,query,subreddit)+str(previous_epoch)"
   ]
  },
  {
   "cell_type": "code",
   "execution_count": null,
   "metadata": {},
   "outputs": [],
   "source": [
    "url = \"https://api.pushshift.io/reddit/{}/search?q={}&limit=1000&sort=desc&subreddit={}&after=1546333968&before=\""
   ]
  },
  {
   "cell_type": "code",
   "execution_count": 48,
   "metadata": {},
   "outputs": [
    {
     "name": "stdout",
     "output_type": "stream",
     "text": [
      "Baden-Wuerttemberg\n",
      "Bavaria\n",
      "Berlin\n",
      "Brandenburg\n",
      "Bremen\n",
      "Hamburg\n",
      "Hessen\n",
      "Lower Saxony\n",
      "Mecklenburg-Vorpommern\n",
      "Nordrhein-Westfalen\n",
      "Rheinland-Pfalz\n",
      "Saarland\n",
      "Saxony\n",
      "Saxony-Anhalt\n",
      "Schleswig-Holstein\n",
      "Thuringia\n"
     ]
    }
   ],
   "source": [
    "for i in range(len(states_json)):\n",
    "    print(states_json[i]['state'])"
   ]
  },
  {
   "cell_type": "code",
   "execution_count": 53,
   "metadata": {},
   "outputs": [
    {
     "data": {
      "text/plain": [
       "{'state': 'Hamburg'}"
      ]
     },
     "execution_count": 53,
     "metadata": {},
     "output_type": "execute_result"
    }
   ],
   "source": []
  },
  {
   "cell_type": "code",
   "execution_count": 63,
   "metadata": {},
   "outputs": [
    {
     "data": {
      "text/plain": [
       "{'state': 'Hamburg'}"
      ]
     },
     "execution_count": 63,
     "metadata": {},
     "output_type": "execute_result"
    }
   ],
   "source": []
  },
  {
   "cell_type": "code",
   "execution_count": 72,
   "metadata": {},
   "outputs": [],
   "source": [
    "url = \"http://api.airvisual.com/v2/cities?state=Hessen&country=Germany&key=df7d5666-30f3-4807-ae5f-d433698a4153\""
   ]
  },
  {
   "cell_type": "code",
   "execution_count": null,
   "metadata": {},
   "outputs": [],
   "source": []
  },
  {
   "cell_type": "code",
   "execution_count": 73,
   "metadata": {},
   "outputs": [
    {
     "name": "stdout",
     "output_type": "stream",
     "text": [
      "b'{\"status\":\"success\",\"data\":[{\"city\":\"Bad Arolsen\"},{\"city\":\"Bebra\"},{\"city\":\"Darmstadt\"},{\"city\":\"Edertal\"},{\"city\":\"Frankfurt am Main\"},{\"city\":\"Fulda\"},{\"city\":\"Furth\"},{\"city\":\"Giessen\"},{\"city\":\"Glashutten\"},{\"city\":\"Hanau\"},{\"city\":\"Heppenheim (Bergstrasse)\"},{\"city\":\"Limburg an der Lahn\"},{\"city\":\"Linden\"},{\"city\":\"Marburg\"},{\"city\":\"Michelstadt\"},{\"city\":\"Neu Isenburg\"},{\"city\":\"Raunheim\"},{\"city\":\"Riedstadt\"},{\"city\":\"Wetzlar\"},{\"city\":\"Wiesbaden\"},{\"city\":\"Witzenhausen\"},{\"city\":\"Zierenberg\"}]}'\n"
     ]
    }
   ],
   "source": [
    "payload={}\n",
    "files={}\n",
    "headers = {}\n",
    "\n",
    "response = requests.request(\"GET\", url, headers=headers, data=payload, files=files)\n",
    "\n",
    "print(response.text.encode('utf8'))\n",
    "\n",
    "states=response.text"
   ]
  },
  {
   "cell_type": "code",
   "execution_count": 67,
   "metadata": {},
   "outputs": [
    {
     "name": "stdout",
     "output_type": "stream",
     "text": [
      "b'{\"status\":\"success\",\"data\":[{\"city\":\"Aalen\"},{\"city\":\"Baden-baden\"},{\"city\":\"Bernhausen\"},{\"city\":\"Biberach\"},{\"city\":\"Eggenstein\"},{\"city\":\"Eppelheim\"},{\"city\":\"Ettlingen\"},{\"city\":\"Freiburg\"},{\"city\":\"Friedrichshafen\"},{\"city\":\"Gartringen\"},{\"city\":\"Heidelberg\"},{\"city\":\"Heilbronn\"},{\"city\":\"Karlsruhe\"},{\"city\":\"Kehl\"},{\"city\":\"Konstanz\"},{\"city\":\"Ludwigsburg\"},{\"city\":\"Mannheim\"},{\"city\":\"M\\xc3\\x83\\xc2\\xbcnstertal/Schwarzwald\"},{\"city\":\"Neuenburg\"},{\"city\":\"Oberried\"},{\"city\":\"Pfalzgrafenweiler\"},{\"city\":\"Pforzheim\"},{\"city\":\"Reutlingen\"},{\"city\":\"Schelklingen\"},{\"city\":\"Schwabische Alb\"},{\"city\":\"Stuttgart\"},{\"city\":\"Stuttgart-Ost\"},{\"city\":\"Tauberbischofsheim\"},{\"city\":\"Tubingen\"},{\"city\":\"Ulm\"},{\"city\":\"Villingen-Schwenningen\"},{\"city\":\"Weil am Rhein\"},{\"city\":\"Wiesloch\"}]}'\n",
      "b'{\"status\":\"success\",\"data\":[{\"city\":\"Andechs\"},{\"city\":\"Ansbach\"},{\"city\":\"Augsburg\"},{\"city\":\"Bad Hindelang\"},{\"city\":\"Bamberg\"},{\"city\":\"Bayreuth\"},{\"city\":\"Burghausen\"},{\"city\":\"Furth\"},{\"city\":\"Grunwald\"},{\"city\":\"Ingolstadt\"},{\"city\":\"Kelheim\"},{\"city\":\"Kulmbach\"},{\"city\":\"Landshut\"},{\"city\":\"Lindau (Bodensee)\"},{\"city\":\"Mehring\"},{\"city\":\"Munich\"},{\"city\":\"Neu-Ulm\"},{\"city\":\"Neustadt an der Donau\"},{\"city\":\"Niederwerrn\"},{\"city\":\"N\\xc3\\x83\\xc2\\xbcrnberg\"},{\"city\":\"Oberaudorf\"},{\"city\":\"Oettingen in Bayern\"},{\"city\":\"Passau\"},{\"city\":\"Regensburg\"},{\"city\":\"Rottach-Egern\"},{\"city\":\"Saal an der Donau\"},{\"city\":\"Schongau\"},{\"city\":\"Schwabach\"},{\"city\":\"Schweinfurt\"},{\"city\":\"Sulzbach-Rosenberg\"},{\"city\":\"Tiefenbach\"},{\"city\":\"Trostberg\"},{\"city\":\"Wurzburg\"}]}'\n",
      "b'{\"status\":\"success\",\"data\":[{\"city\":\"Berlin\"},{\"city\":\"Charlottenburg Bezirk\"},{\"city\":\"Mitte\"},{\"city\":\"Prenzlauer Berg Bezirk\"}]}'\n",
      "b'{\"status\":\"success\",\"data\":[{\"city\":\"Alt Zauche-Wusswerk\"},{\"city\":\"Bad Belzig\"},{\"city\":\"Bernau bei Berlin\"},{\"city\":\"Blankenfelde-Mahlow\"},{\"city\":\"Brandenburg City\"},{\"city\":\"Buckow\"},{\"city\":\"Cottbus\"},{\"city\":\"Eberswalde\"},{\"city\":\"Eisenhuttenstadt\"},{\"city\":\"Frankfurt/Oder\"},{\"city\":\"Nauen\"},{\"city\":\"Neuruppin\"},{\"city\":\"Potsdam\"},{\"city\":\"Rudersdorf bei Berlin\"},{\"city\":\"Schonefeld\"},{\"city\":\"Schwedt/Oder\"},{\"city\":\"Spremberg\"},{\"city\":\"Stechlin\"},{\"city\":\"Wittenberge\"}]}'\n",
      "b'{\"status\":\"success\",\"data\":[{\"city\":\"Bremen\"},{\"city\":\"Bremerhaven\"}]}'\n",
      "b'{\"status\":\"success\",\"data\":[{\"city\":\"Hamburg\"}]}'\n",
      "b'{\"status\":\"success\",\"data\":[{\"city\":\"Bad Arolsen\"},{\"city\":\"Bebra\"},{\"city\":\"Darmstadt\"},{\"city\":\"Edertal\"},{\"city\":\"Frankfurt am Main\"},{\"city\":\"Fulda\"},{\"city\":\"Furth\"},{\"city\":\"Giessen\"},{\"city\":\"Glashutten\"},{\"city\":\"Hanau\"},{\"city\":\"Heppenheim (Bergstrasse)\"},{\"city\":\"Limburg an der Lahn\"},{\"city\":\"Linden\"},{\"city\":\"Marburg\"},{\"city\":\"Michelstadt\"},{\"city\":\"Neu Isenburg\"},{\"city\":\"Raunheim\"},{\"city\":\"Riedstadt\"},{\"city\":\"Wetzlar\"},{\"city\":\"Wiesbaden\"},{\"city\":\"Witzenhausen\"},{\"city\":\"Zierenberg\"}]}'\n",
      "b'{\"status\":\"success\",\"data\":[{\"city\":\"Allertal\"},{\"city\":\"Braunschweig\"},{\"city\":\"B\\xc3\\xb6sel\"},{\"city\":\"Cuxhaven\"},{\"city\":\"Duderstadt\"},{\"city\":\"Emden\"},{\"city\":\"Emsland\"},{\"city\":\"Goslar\"},{\"city\":\"Gottingen\"},{\"city\":\"Hannover\"},{\"city\":\"Hildesheim\"},{\"city\":\"Jadebusen\"},{\"city\":\"Jork\"},{\"city\":\"Luchow\"},{\"city\":\"Luder\"},{\"city\":\"L\\xc3\\xbcneburg\"},{\"city\":\"Meppen\"},{\"city\":\"Northeim\"},{\"city\":\"Oldenburg\"},{\"city\":\"Osnabruck\"},{\"city\":\"Osnabrueck\"},{\"city\":\"Ostfriesland\"},{\"city\":\"Salzgitter\"},{\"city\":\"Solling\"},{\"city\":\"Weserbergland\"},{\"city\":\"Wolfsburg\"}]}'\n",
      "b'{\"status\":\"success\",\"data\":[{\"city\":\"Garz/Rugen\"},{\"city\":\"Gohlen\"},{\"city\":\"Gulzow\"},{\"city\":\"Gustrow\"},{\"city\":\"Leizen\"},{\"city\":\"Locknitz\"},{\"city\":\"Rostock\"},{\"city\":\"Stralsund\"},{\"city\":\"Wismar\"},{\"city\":\"Zingst\"}]}'\n",
      "b'{\"status\":\"success\",\"data\":[{\"city\":\"Aachen\"},{\"city\":\"Bonn\"},{\"city\":\"Borken\"},{\"city\":\"Bottrop\"},{\"city\":\"Datteln\"},{\"city\":\"Dortmund\"},{\"city\":\"Duisburg\"},{\"city\":\"D\\xc3\\xbcsseldorf\"},{\"city\":\"Essen\"},{\"city\":\"Gelsenkirchen\"},{\"city\":\"Hagen\"},{\"city\":\"Krefeld\"},{\"city\":\"K\\xc3\\xb6ln\"},{\"city\":\"Leverkusen\"},{\"city\":\"Meiderich\"},{\"city\":\"Mulheim\"},{\"city\":\"M\\xc3\\xb6nchengladbach\"},{\"city\":\"M\\xc3\\xbcnster\"},{\"city\":\"Nettetal\"},{\"city\":\"Oberhausen\"},{\"city\":\"Ostwestfalen\"},{\"city\":\"Rhein-Erft-Kreis\"},{\"city\":\"Solingen\"},{\"city\":\"Titz\"},{\"city\":\"Warstein\"},{\"city\":\"Wesel\"},{\"city\":\"Wuppertal\"}]}'\n",
      "b'{\"status\":\"success\",\"data\":[{\"city\":\"Auw bei Pr\\xc3\\xbcm\"},{\"city\":\"Bad Kreuznach\"},{\"city\":\"Dunzweiler\"},{\"city\":\"Herdorf\"},{\"city\":\"Kaiserslautern\"},{\"city\":\"Koblenz\"},{\"city\":\"Ludwigshafen am Rhein\"},{\"city\":\"Mainz\"},{\"city\":\"Merzalben\"},{\"city\":\"Montabaur\"},{\"city\":\"Neuwied\"},{\"city\":\"Pirmasens\"},{\"city\":\"Siesbach\"},{\"city\":\"Speyer\"},{\"city\":\"Trier\"},{\"city\":\"Worms\"},{\"city\":\"W\\xc3\\xb6rth am Rhein\"}]}'\n",
      "b'{\"status\":\"success\",\"data\":[{\"city\":\"Bexbach\"},{\"city\":\"Burbach\"},{\"city\":\"Dillingen\"},{\"city\":\"Eschberg\"},{\"city\":\"Lebach\"},{\"city\":\"Rehlingen-Siersburg\"},{\"city\":\"Saarbrucken\"},{\"city\":\"Saarlouis\"},{\"city\":\"Volklingen\"}]}'\n",
      "b'{\"status\":\"success\",\"data\":[{\"city\":\"Annaberg-Buchholz\"},{\"city\":\"Bautzen\"},{\"city\":\"Collmberg\"},{\"city\":\"Dresden\"},{\"city\":\"Eibenstock\"},{\"city\":\"Goerlitz\"},{\"city\":\"Klingenthal\"},{\"city\":\"Leipzig\"},{\"city\":\"Netzschkau\"},{\"city\":\"Niesky\"},{\"city\":\"Plauen\"},{\"city\":\"Radebeul\"},{\"city\":\"Schwartenberg\"},{\"city\":\"Zittau\"},{\"city\":\"Zwickau\"}]}'\n",
      "b'{\"status\":\"success\",\"data\":[{\"city\":\"Aschersleben\"},{\"city\":\"Bitterfeld-Wolfen\"},{\"city\":\"Burg (bei Magdeburg)\"},{\"city\":\"Dornbock\"},{\"city\":\"Halberstadt\"},{\"city\":\"Halle (Saale)\"},{\"city\":\"Harzgerode\"},{\"city\":\"Klotze\"},{\"city\":\"Leuna\"},{\"city\":\"Lutherstadt Wittenberg\"},{\"city\":\"Magdeburg\"},{\"city\":\"Stendal\"},{\"city\":\"S\\xc3\\xbcdharz\"},{\"city\":\"Wei\\xc3\\x9fenfels\"},{\"city\":\"Wernigerode\"},{\"city\":\"Zeitz\"}]}'\n",
      "b'{\"status\":\"success\",\"data\":[{\"city\":\"Belau\"},{\"city\":\"Eggebek\"},{\"city\":\"Flensburg\"},{\"city\":\"Itzehoe\"},{\"city\":\"Kiel\"},{\"city\":\"Lauenburg\"},{\"city\":\"L\\xc3\\x83\\xc2\\xbcbeck\"}]}'\n",
      "b'{\"status\":\"fail\",\"data\":{\"message\":\"call_per_minute_limit_reached\"}}'\n"
     ]
    }
   ],
   "source": [
    "for i in range(len(states_json)):\n",
    "    state = states_json[i]\n",
    "    url = \"http://api.airvisual.com/v2/cities?state={}&country=Germany&key=df7d5666-30f3-4807-ae5f-d433698a4153\"\n",
    "    new_url = url.format(state['state'])\n",
    "    \n",
    "    payload={}\n",
    "    files={}\n",
    "    headers = {}\n",
    "    \n",
    "    response = requests.request(\"GET\", new_url, headers=headers, data=payload, files=files)\n",
    "    \n",
    "    print(response.text.encode('utf8'))\n",
    "    \n",
    "    time.sleep(10)"
   ]
  },
  {
   "cell_type": "code",
   "execution_count": null,
   "metadata": {},
   "outputs": [],
   "source": [
    "def downloadReddit(df, object_type, subreddits):\n",
    "\tsubreddit = subreddits\n",
    "\tfor sub in subreddit:\n",
    "#\t\tprevious_epoch = int(start_time.timestamp())\n",
    "\t\tprevious_epoch = int(1548321168)\n",
    "\t\tprint(f\"Saving {object_type}s to {sub}\")\n",
    "\t\tcount = 0\n",
    "\t\trows = df\n",
    "\t\tsubreddit = sub       \n",
    "\t\twhile True:\n",
    "\t\t\tnew_url = url.format(object_type,query,subreddit)+str(previous_epoch)\n",
    "\t\t\tjson = requests.get(new_url, headers={'User-Agent': \"Post download by Olik\"})\n",
    "\t\t\ttime.sleep(1) # pushshift has a rate limit, if we send requests too fast it will start returning error messages\n",
    "\t\t\tjson_data = json.json()\n",
    "\t\t\tif 'data' not in json_data:\n",
    "\t\t\t\tbreak\n",
    "\t\t\tobjects = json_data['data']\n",
    "\t\t\tif len(objects) == 0:\n",
    "\t\t\t\tbreak\n",
    "\n",
    "\t\t\tfor object in objects:\n",
    "\t\t\t\tprevious_epoch = object['created_utc'] - 1\n",
    "\t\t\t\tcount += 1\n",
    "\t\t\t\tif object_type == 'comment':\n",
    "\t\t\t\t\ttry:\n",
    "\t\t\t\t\t\trows.append([str(object['score']), subreddit, object['author'], object['body'], datetime.fromtimestamp(object['created_utc']).strftime(\"%Y-%m-%d\"), 'comment'])\n",
    "\t\t\t\t\texcept Exception as err:\n",
    "\t\t\t\t\t\tprint(f\"Couldn't print comment: https://www.reddit.com{object['permalink']}\")\n",
    "\t\t\t\t\t\tprint(traceback.format_exc())\n",
    "\t\t\t\telif object_type == 'submission':\n",
    "\t\t\t\t\tif object['is_self']:\n",
    "\t\t\t\t\t\tif 'selftext' not in object:\n",
    "\t\t\t\t\t\t\tcontinue\n",
    "\t\t\t\t\t\ttry:\n",
    "\t\t\t\t\t\t\trows.append([str(object['score']), subreddit, object['selftext'], datetime.fromtimestamp(object['created_utc']).strftime(\"%Y-%m-%d\"), 'submission'])\n",
    "\t\t\t\t\t\texcept Exception as err:\n",
    "\t\t\t\t\t\t\tprint(f\"Couldn't print post: {object['url']}\")\n",
    "\t\t\t\t\t\t\tprint(traceback.format_exc())\n",
    "\n",
    "\t\t\tprint(\"Saved {} {}s through {}\".format(count, object_type, datetime.fromtimestamp(previous_epoch).strftime(\"%Y-%m-%d\")))\n",
    "\n",
    "\t\tprint(f\"Saved {count} {object_type}s\")"
   ]
  },
  {
   "cell_type": "code",
   "execution_count": null,
   "metadata": {},
   "outputs": [],
   "source": [
    "url = \"http://api.airvisual.com/v2/cities?state=New York&country=USA&key={{YOUR_API_KEY}}\"\n",
    "\n",
    "payload={}\n",
    "files={}\n",
    "headers = {}\n",
    "\n",
    "response = requests.request(\"GET\", url, headers=headers, data=payload, files=files)\n",
    "\n",
    "print(response.text)"
   ]
  },
  {
   "cell_type": "code",
   "execution_count": null,
   "metadata": {},
   "outputs": [],
   "source": [
    "# for each state in the list of states"
   ]
  },
  {
   "cell_type": "code",
   "execution_count": 17,
   "metadata": {},
   "outputs": [
    {
     "name": "stdout",
     "output_type": "stream",
     "text": [
      "b'{\"status\":\"success\",\"data\":[{\"city\":\"Aalen\"},{\"city\":\"Baden-baden\"},{\"city\":\"Bernhausen\"},{\"city\":\"Biberach\"},{\"city\":\"Eggenstein\"},{\"city\":\"Eppelheim\"},{\"city\":\"Ettlingen\"},{\"city\":\"Freiburg\"},{\"city\":\"Friedrichshafen\"},{\"city\":\"Gartringen\"},{\"city\":\"Heidelberg\"},{\"city\":\"Heilbronn\"},{\"city\":\"Karlsruhe\"},{\"city\":\"Kehl\"},{\"city\":\"Konstanz\"},{\"city\":\"Ludwigsburg\"},{\"city\":\"Mannheim\"},{\"city\":\"M\\xc3\\x83\\xc2\\xbcnstertal/Schwarzwald\"},{\"city\":\"Neuenburg\"},{\"city\":\"Oberried\"},{\"city\":\"Pfalzgrafenweiler\"},{\"city\":\"Pforzheim\"},{\"city\":\"Reutlingen\"},{\"city\":\"Schelklingen\"},{\"city\":\"Schwabische Alb\"},{\"city\":\"Stuttgart\"},{\"city\":\"Tauberbischofsheim\"},{\"city\":\"Tubingen\"},{\"city\":\"Ulm\"},{\"city\":\"Villingen-Schwenningen\"},{\"city\":\"Weil am Rhein\"},{\"city\":\"Wiesloch\"}]}'\n"
     ]
    }
   ],
   "source": [
    "url = \"http://api.airvisual.com/v2/cities?state=Baden-Wuerttemberg&country=Germany&key=df7d5666-30f3-4807-ae5f-d433698a4153\"\n",
    "\n",
    "payload = {}\n",
    "headers= {}\n",
    "\n",
    "response = requests.request(\"GET\", url, headers=headers, data = payload)\n",
    "\n",
    "print(response.text.encode('utf8'))"
   ]
  },
  {
   "cell_type": "code",
   "execution_count": 14,
   "metadata": {},
   "outputs": [
    {
     "name": "stdout",
     "output_type": "stream",
     "text": [
      "b'{\"status\":\"success\",\"data\":[{\"state\":\"Baden-Wuerttemberg\"},{\"state\":\"Bavaria\"},{\"state\":\"Berlin\"},{\"state\":\"Brandenburg\"},{\"state\":\"Bremen\"},{\"state\":\"Hamburg\"},{\"state\":\"Hessen\"},{\"state\":\"Lower Saxony\"},{\"state\":\"Mecklenburg-Vorpommern\"},{\"state\":\"Nordrhein-Westfalen\"},{\"state\":\"Rheinland-Pfalz\"},{\"state\":\"Saarland\"},{\"state\":\"Saxony\"},{\"state\":\"Saxony-Anhalt\"},{\"state\":\"Schleswig-Holstein\"},{\"state\":\"Thuringia\"}]}'\n"
     ]
    }
   ],
   "source": [
    "url = \"http://api.airvisual.com/v2/states?country=Germany&key=df7d5666-30f3-4807-ae5f-d433698a4153\"\n",
    "\n",
    "payload = {}\n",
    "headers= {}\n",
    "\n",
    "response = requests.request(\"GET\", url, headers=headers, data = payload)\n",
    "\n",
    "print(response.text.encode('utf8'))"
   ]
  },
  {
   "cell_type": "code",
   "execution_count": 11,
   "metadata": {},
   "outputs": [
    {
     "ename": "TypeError",
     "evalue": "object of type 'Response' has no len()",
     "output_type": "error",
     "traceback": [
      "\u001b[0;31m---------------------------------------------------------------------------\u001b[0m",
      "\u001b[0;31mTypeError\u001b[0m                                 Traceback (most recent call last)",
      "\u001b[0;32m<ipython-input-11-026e63874ba4>\u001b[0m in \u001b[0;36m<module>\u001b[0;34m()\u001b[0m\n\u001b[0;32m----> 1\u001b[0;31m \u001b[0mdf\u001b[0m \u001b[0;34m=\u001b[0m \u001b[0mpd\u001b[0m\u001b[0;34m.\u001b[0m\u001b[0mDataFrame\u001b[0m\u001b[0;34m.\u001b[0m\u001b[0mfrom_records\u001b[0m\u001b[0;34m(\u001b[0m\u001b[0mresponse\u001b[0m\u001b[0;34m)\u001b[0m\u001b[0;34m[\u001b[0m\u001b[0;34m[\u001b[0m\u001b[0;34m\"country\"\u001b[0m\u001b[0;34m]\u001b[0m\u001b[0;34m]\u001b[0m\u001b[0;34m\u001b[0m\u001b[0m\n\u001b[0m",
      "\u001b[0;32m~/.local/lib/python3.6/site-packages/pandas/core/frame.py\u001b[0m in \u001b[0;36mfrom_records\u001b[0;34m(cls, data, index, exclude, columns, coerce_float, nrows)\u001b[0m\n\u001b[1;32m   1789\u001b[0m             \u001b[0marr_columns\u001b[0m \u001b[0;34m=\u001b[0m \u001b[0mcolumns\u001b[0m\u001b[0;34m\u001b[0m\u001b[0m\n\u001b[1;32m   1790\u001b[0m         \u001b[0;32melse\u001b[0m\u001b[0;34m:\u001b[0m\u001b[0;34m\u001b[0m\u001b[0m\n\u001b[0;32m-> 1791\u001b[0;31m             \u001b[0marrays\u001b[0m\u001b[0;34m,\u001b[0m \u001b[0marr_columns\u001b[0m \u001b[0;34m=\u001b[0m \u001b[0mto_arrays\u001b[0m\u001b[0;34m(\u001b[0m\u001b[0mdata\u001b[0m\u001b[0;34m,\u001b[0m \u001b[0mcolumns\u001b[0m\u001b[0;34m,\u001b[0m \u001b[0mcoerce_float\u001b[0m\u001b[0;34m=\u001b[0m\u001b[0mcoerce_float\u001b[0m\u001b[0;34m)\u001b[0m\u001b[0;34m\u001b[0m\u001b[0m\n\u001b[0m\u001b[1;32m   1792\u001b[0m \u001b[0;34m\u001b[0m\u001b[0m\n\u001b[1;32m   1793\u001b[0m             \u001b[0marr_columns\u001b[0m \u001b[0;34m=\u001b[0m \u001b[0mensure_index\u001b[0m\u001b[0;34m(\u001b[0m\u001b[0marr_columns\u001b[0m\u001b[0;34m)\u001b[0m\u001b[0;34m\u001b[0m\u001b[0m\n",
      "\u001b[0;32m~/.local/lib/python3.6/site-packages/pandas/core/internals/construction.py\u001b[0m in \u001b[0;36mto_arrays\u001b[0;34m(data, columns, coerce_float, dtype)\u001b[0m\n\u001b[1;32m    515\u001b[0m         \u001b[0;32mreturn\u001b[0m \u001b[0marrays\u001b[0m\u001b[0;34m,\u001b[0m \u001b[0mcolumns\u001b[0m\u001b[0;34m\u001b[0m\u001b[0m\n\u001b[1;32m    516\u001b[0m \u001b[0;34m\u001b[0m\u001b[0m\n\u001b[0;32m--> 517\u001b[0;31m     \u001b[0;32mif\u001b[0m \u001b[0;32mnot\u001b[0m \u001b[0mlen\u001b[0m\u001b[0;34m(\u001b[0m\u001b[0mdata\u001b[0m\u001b[0;34m)\u001b[0m\u001b[0;34m:\u001b[0m\u001b[0;34m\u001b[0m\u001b[0m\n\u001b[0m\u001b[1;32m    518\u001b[0m         \u001b[0;32mif\u001b[0m \u001b[0misinstance\u001b[0m\u001b[0;34m(\u001b[0m\u001b[0mdata\u001b[0m\u001b[0;34m,\u001b[0m \u001b[0mnp\u001b[0m\u001b[0;34m.\u001b[0m\u001b[0mndarray\u001b[0m\u001b[0;34m)\u001b[0m\u001b[0;34m:\u001b[0m\u001b[0;34m\u001b[0m\u001b[0m\n\u001b[1;32m    519\u001b[0m             \u001b[0mcolumns\u001b[0m \u001b[0;34m=\u001b[0m \u001b[0mdata\u001b[0m\u001b[0;34m.\u001b[0m\u001b[0mdtype\u001b[0m\u001b[0;34m.\u001b[0m\u001b[0mnames\u001b[0m\u001b[0;34m\u001b[0m\u001b[0m\n",
      "\u001b[0;31mTypeError\u001b[0m: object of type 'Response' has no len()"
     ]
    }
   ],
   "source": [
    "df = pd.DataFrame.from_records(response)[[\"country\"]]"
   ]
  },
  {
   "cell_type": "code",
   "execution_count": null,
   "metadata": {},
   "outputs": [],
   "source": [
    "######What we need to do\n",
    "\n",
    "###SETUP WORK\n",
    "\n",
    "#Create a storage & SQL database in Azure (Oli -next session)\n",
    "\n",
    "###REQUEST HANDLING WORK - (Oli & Pily)\n",
    "\n",
    "#Request the list of German cities (JN)\n",
    "#if we cannot take all cities, lets exclude the smallest ones (max 300 cities)\n",
    "#Request air quality & weather data for each city\n",
    "#Make a df out of it:\n",
    "#date (everyday)\n",
    "#city\n",
    "#country - Germany\n",
    "#geolocation (might not be important to get from the api)\n",
    "#all features\n",
    "\n",
    "###MIGRATE DATA FROM PC TO AZURE\n",
    "#dump data to the storage (Oli)\n",
    "#dump data to SQL database (Oli)\n",
    "\n",
    "\n",
    "###THINK ABOUT VIS\n",
    "\n",
    "###Make the requests daily - append new data to old df & dump to Azure\n",
    "\n"
   ]
  },
  {
   "cell_type": "code",
   "execution_count": null,
   "metadata": {},
   "outputs": [],
   "source": [
    "#Archived tasks:\n",
    "\n",
    "#Set up Github repostiory (Pily)\n",
    "#Push this file to Jupyter Notebook (Oli)\n",
    "#How to workshop: requirements.txt & create virtual environment (Oli - next session)"
   ]
  }
 ],
 "metadata": {
  "kernelspec": {
   "display_name": "Python 3",
   "language": "python",
   "name": "python3"
  },
  "language_info": {
   "codemirror_mode": {
    "name": "ipython",
    "version": 3
   },
   "file_extension": ".py",
   "mimetype": "text/x-python",
   "name": "python",
   "nbconvert_exporter": "python",
   "pygments_lexer": "ipython3",
   "version": "3.7.3"
  }
 },
 "nbformat": 4,
 "nbformat_minor": 2
}
